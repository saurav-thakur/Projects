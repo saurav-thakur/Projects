{
 "cells": [
  {
   "cell_type": "code",
   "execution_count": 1,
   "id": "1e667a8e-b890-4dd5-a61d-56ff134f2f13",
   "metadata": {},
   "outputs": [],
   "source": [
    "import pandas as pd\n",
    "import numpy as np\n",
    "import matplotlib.pyplot as plt\n",
    "import seaborn as sns\n",
    "plt.style.use('ggplot')"
   ]
  },
  {
   "cell_type": "code",
   "execution_count": 217,
   "id": "82c8fafe-a126-493a-9c2b-c5cf75a79a09",
   "metadata": {},
   "outputs": [
    {
     "data": {
      "text/html": [
       "<div>\n",
       "<style scoped>\n",
       "    .dataframe tbody tr th:only-of-type {\n",
       "        vertical-align: middle;\n",
       "    }\n",
       "\n",
       "    .dataframe tbody tr th {\n",
       "        vertical-align: top;\n",
       "    }\n",
       "\n",
       "    .dataframe thead th {\n",
       "        text-align: right;\n",
       "    }\n",
       "</style>\n",
       "<table border=\"1\" class=\"dataframe\">\n",
       "  <thead>\n",
       "    <tr style=\"text-align: right;\">\n",
       "      <th></th>\n",
       "      <th>White King file</th>\n",
       "      <th>White King rank</th>\n",
       "      <th>White Rook file</th>\n",
       "      <th>White Rook rank</th>\n",
       "      <th>Black King file</th>\n",
       "      <th>Black King rank</th>\n",
       "      <th>optimal depth-of-win</th>\n",
       "    </tr>\n",
       "  </thead>\n",
       "  <tbody>\n",
       "    <tr>\n",
       "      <th>0</th>\n",
       "      <td>d</td>\n",
       "      <td>3</td>\n",
       "      <td>f</td>\n",
       "      <td>5</td>\n",
       "      <td>a</td>\n",
       "      <td>5</td>\n",
       "      <td>nine</td>\n",
       "    </tr>\n",
       "    <tr>\n",
       "      <th>1</th>\n",
       "      <td>d</td>\n",
       "      <td>3</td>\n",
       "      <td>e</td>\n",
       "      <td>5</td>\n",
       "      <td>f</td>\n",
       "      <td>2</td>\n",
       "      <td>eight</td>\n",
       "    </tr>\n",
       "    <tr>\n",
       "      <th>2</th>\n",
       "      <td>d</td>\n",
       "      <td>1</td>\n",
       "      <td>g</td>\n",
       "      <td>6</td>\n",
       "      <td>d</td>\n",
       "      <td>7</td>\n",
       "      <td>thirteen</td>\n",
       "    </tr>\n",
       "    <tr>\n",
       "      <th>3</th>\n",
       "      <td>c</td>\n",
       "      <td>2</td>\n",
       "      <td>e</td>\n",
       "      <td>8</td>\n",
       "      <td>a</td>\n",
       "      <td>4</td>\n",
       "      <td>ten</td>\n",
       "    </tr>\n",
       "    <tr>\n",
       "      <th>4</th>\n",
       "      <td>d</td>\n",
       "      <td>4</td>\n",
       "      <td>a</td>\n",
       "      <td>8</td>\n",
       "      <td>b</td>\n",
       "      <td>1</td>\n",
       "      <td>eight</td>\n",
       "    </tr>\n",
       "  </tbody>\n",
       "</table>\n",
       "</div>"
      ],
      "text/plain": [
       "  White King file  White King rank White Rook file  White Rook rank  \\\n",
       "0               d                3               f                5   \n",
       "1               d                3               e                5   \n",
       "2               d                1               g                6   \n",
       "3               c                2               e                8   \n",
       "4               d                4               a                8   \n",
       "\n",
       "  Black King file  Black King rank optimal depth-of-win  \n",
       "0               a                5                 nine  \n",
       "1               f                2                eight  \n",
       "2               d                7             thirteen  \n",
       "3               a                4                  ten  \n",
       "4               b                1                eight  "
      ]
     },
     "execution_count": 217,
     "metadata": {},
     "output_type": "execute_result"
    }
   ],
   "source": [
    "df = pd.read_csv('Train_Data.csv')\n",
    "test = pd.read_csv('Test_Data.csv')\n",
    "df.head()"
   ]
  },
  {
   "cell_type": "code",
   "execution_count": 56,
   "id": "39c3c9af-d716-41da-84f6-769abd6184b8",
   "metadata": {},
   "outputs": [
    {
     "data": {
      "text/html": [
       "<div>\n",
       "<style scoped>\n",
       "    .dataframe tbody tr th:only-of-type {\n",
       "        vertical-align: middle;\n",
       "    }\n",
       "\n",
       "    .dataframe tbody tr th {\n",
       "        vertical-align: top;\n",
       "    }\n",
       "\n",
       "    .dataframe thead th {\n",
       "        text-align: right;\n",
       "    }\n",
       "</style>\n",
       "<table border=\"1\" class=\"dataframe\">\n",
       "  <thead>\n",
       "    <tr style=\"text-align: right;\">\n",
       "      <th></th>\n",
       "      <th>White King file</th>\n",
       "      <th>White King rank</th>\n",
       "      <th>White Rook file</th>\n",
       "      <th>White Rook rank</th>\n",
       "      <th>Black King file</th>\n",
       "      <th>Black King rank</th>\n",
       "    </tr>\n",
       "  </thead>\n",
       "  <tbody>\n",
       "    <tr>\n",
       "      <th>0</th>\n",
       "      <td>d</td>\n",
       "      <td>1</td>\n",
       "      <td>e</td>\n",
       "      <td>3</td>\n",
       "      <td>g</td>\n",
       "      <td>5</td>\n",
       "    </tr>\n",
       "    <tr>\n",
       "      <th>1</th>\n",
       "      <td>b</td>\n",
       "      <td>1</td>\n",
       "      <td>f</td>\n",
       "      <td>7</td>\n",
       "      <td>f</td>\n",
       "      <td>3</td>\n",
       "    </tr>\n",
       "    <tr>\n",
       "      <th>2</th>\n",
       "      <td>d</td>\n",
       "      <td>2</td>\n",
       "      <td>d</td>\n",
       "      <td>4</td>\n",
       "      <td>e</td>\n",
       "      <td>7</td>\n",
       "    </tr>\n",
       "    <tr>\n",
       "      <th>3</th>\n",
       "      <td>c</td>\n",
       "      <td>2</td>\n",
       "      <td>g</td>\n",
       "      <td>5</td>\n",
       "      <td>f</td>\n",
       "      <td>5</td>\n",
       "    </tr>\n",
       "    <tr>\n",
       "      <th>4</th>\n",
       "      <td>b</td>\n",
       "      <td>1</td>\n",
       "      <td>e</td>\n",
       "      <td>4</td>\n",
       "      <td>b</td>\n",
       "      <td>8</td>\n",
       "    </tr>\n",
       "  </tbody>\n",
       "</table>\n",
       "</div>"
      ],
      "text/plain": [
       "  White King file  White King rank White Rook file  White Rook rank  \\\n",
       "0               d                1               e                3   \n",
       "1               b                1               f                7   \n",
       "2               d                2               d                4   \n",
       "3               c                2               g                5   \n",
       "4               b                1               e                4   \n",
       "\n",
       "  Black King file  Black King rank  \n",
       "0               g                5  \n",
       "1               f                3  \n",
       "2               e                7  \n",
       "3               f                5  \n",
       "4               b                8  "
      ]
     },
     "execution_count": 56,
     "metadata": {},
     "output_type": "execute_result"
    }
   ],
   "source": [
    "test.head()"
   ]
  },
  {
   "cell_type": "code",
   "execution_count": 3,
   "id": "a49b053d-4a70-4a63-bbac-db37e10595ed",
   "metadata": {},
   "outputs": [
    {
     "data": {
      "text/plain": [
       "(21041, 7)"
      ]
     },
     "execution_count": 3,
     "metadata": {},
     "output_type": "execute_result"
    }
   ],
   "source": [
    "df.shape"
   ]
  },
  {
   "cell_type": "code",
   "execution_count": 4,
   "id": "6cdb2715-3c30-40de-97d2-17a84ef941d1",
   "metadata": {},
   "outputs": [
    {
     "name": "stdout",
     "output_type": "stream",
     "text": [
      "<class 'pandas.core.frame.DataFrame'>\n",
      "RangeIndex: 21041 entries, 0 to 21040\n",
      "Data columns (total 7 columns):\n",
      " #   Column                Non-Null Count  Dtype \n",
      "---  ------                --------------  ----- \n",
      " 0   White King file       21041 non-null  object\n",
      " 1   White King rank       21041 non-null  int64 \n",
      " 2   White Rook file       21041 non-null  object\n",
      " 3   White Rook rank       21041 non-null  int64 \n",
      " 4   Black King file       21041 non-null  object\n",
      " 5   Black King rank       21041 non-null  int64 \n",
      " 6   optimal depth-of-win  21041 non-null  object\n",
      "dtypes: int64(3), object(4)\n",
      "memory usage: 1.1+ MB\n"
     ]
    }
   ],
   "source": [
    "df.info()"
   ]
  },
  {
   "cell_type": "code",
   "execution_count": 5,
   "id": "fbc208b1-deb1-4707-8922-7655d3e2b9ec",
   "metadata": {},
   "outputs": [
    {
     "data": {
      "text/plain": [
       "White King file          4\n",
       "White King rank          4\n",
       "White Rook file          8\n",
       "White Rook rank          8\n",
       "Black King file          8\n",
       "Black King rank          8\n",
       "optimal depth-of-win    18\n",
       "dtype: int64"
      ]
     },
     "execution_count": 5,
     "metadata": {},
     "output_type": "execute_result"
    }
   ],
   "source": [
    "df.nunique()"
   ]
  },
  {
   "cell_type": "code",
   "execution_count": 26,
   "id": "379c038e-e2d8-4cdf-a49e-d9533739fcd6",
   "metadata": {},
   "outputs": [
    {
     "data": {
      "text/html": [
       "<div>\n",
       "<style scoped>\n",
       "    .dataframe tbody tr th:only-of-type {\n",
       "        vertical-align: middle;\n",
       "    }\n",
       "\n",
       "    .dataframe tbody tr th {\n",
       "        vertical-align: top;\n",
       "    }\n",
       "\n",
       "    .dataframe thead th {\n",
       "        text-align: right;\n",
       "    }\n",
       "</style>\n",
       "<table border=\"1\" class=\"dataframe\">\n",
       "  <thead>\n",
       "    <tr style=\"text-align: right;\">\n",
       "      <th></th>\n",
       "      <th>White King file</th>\n",
       "      <th>White King rank</th>\n",
       "      <th>White Rook file</th>\n",
       "      <th>White Rook rank</th>\n",
       "      <th>Black King file</th>\n",
       "      <th>Black King rank</th>\n",
       "      <th>optimal depth-of-win</th>\n",
       "    </tr>\n",
       "  </thead>\n",
       "  <tbody>\n",
       "    <tr>\n",
       "      <th>8821</th>\n",
       "      <td>d</td>\n",
       "      <td>3</td>\n",
       "      <td>f</td>\n",
       "      <td>1</td>\n",
       "      <td>g</td>\n",
       "      <td>5</td>\n",
       "      <td>ten</td>\n",
       "    </tr>\n",
       "    <tr>\n",
       "      <th>864</th>\n",
       "      <td>d</td>\n",
       "      <td>3</td>\n",
       "      <td>h</td>\n",
       "      <td>8</td>\n",
       "      <td>g</td>\n",
       "      <td>8</td>\n",
       "      <td>draw</td>\n",
       "    </tr>\n",
       "    <tr>\n",
       "      <th>2054</th>\n",
       "      <td>b</td>\n",
       "      <td>1</td>\n",
       "      <td>c</td>\n",
       "      <td>6</td>\n",
       "      <td>e</td>\n",
       "      <td>3</td>\n",
       "      <td>sixteen</td>\n",
       "    </tr>\n",
       "    <tr>\n",
       "      <th>205</th>\n",
       "      <td>d</td>\n",
       "      <td>2</td>\n",
       "      <td>b</td>\n",
       "      <td>6</td>\n",
       "      <td>c</td>\n",
       "      <td>6</td>\n",
       "      <td>draw</td>\n",
       "    </tr>\n",
       "    <tr>\n",
       "      <th>10059</th>\n",
       "      <td>b</td>\n",
       "      <td>1</td>\n",
       "      <td>g</td>\n",
       "      <td>6</td>\n",
       "      <td>g</td>\n",
       "      <td>8</td>\n",
       "      <td>thirteen</td>\n",
       "    </tr>\n",
       "    <tr>\n",
       "      <th>19451</th>\n",
       "      <td>b</td>\n",
       "      <td>1</td>\n",
       "      <td>c</td>\n",
       "      <td>4</td>\n",
       "      <td>e</td>\n",
       "      <td>1</td>\n",
       "      <td>twelve</td>\n",
       "    </tr>\n",
       "    <tr>\n",
       "      <th>9571</th>\n",
       "      <td>a</td>\n",
       "      <td>1</td>\n",
       "      <td>f</td>\n",
       "      <td>4</td>\n",
       "      <td>h</td>\n",
       "      <td>7</td>\n",
       "      <td>thirteen</td>\n",
       "    </tr>\n",
       "    <tr>\n",
       "      <th>3506</th>\n",
       "      <td>d</td>\n",
       "      <td>3</td>\n",
       "      <td>h</td>\n",
       "      <td>8</td>\n",
       "      <td>d</td>\n",
       "      <td>1</td>\n",
       "      <td>two</td>\n",
       "    </tr>\n",
       "    <tr>\n",
       "      <th>15627</th>\n",
       "      <td>c</td>\n",
       "      <td>3</td>\n",
       "      <td>h</td>\n",
       "      <td>5</td>\n",
       "      <td>b</td>\n",
       "      <td>1</td>\n",
       "      <td>two</td>\n",
       "    </tr>\n",
       "    <tr>\n",
       "      <th>11778</th>\n",
       "      <td>d</td>\n",
       "      <td>1</td>\n",
       "      <td>c</td>\n",
       "      <td>2</td>\n",
       "      <td>f</td>\n",
       "      <td>1</td>\n",
       "      <td>four</td>\n",
       "    </tr>\n",
       "  </tbody>\n",
       "</table>\n",
       "</div>"
      ],
      "text/plain": [
       "      White King file  White King rank White Rook file  White Rook rank  \\\n",
       "8821                d                3               f                1   \n",
       "864                 d                3               h                8   \n",
       "2054                b                1               c                6   \n",
       "205                 d                2               b                6   \n",
       "10059               b                1               g                6   \n",
       "19451               b                1               c                4   \n",
       "9571                a                1               f                4   \n",
       "3506                d                3               h                8   \n",
       "15627               c                3               h                5   \n",
       "11778               d                1               c                2   \n",
       "\n",
       "      Black King file  Black King rank optimal depth-of-win  \n",
       "8821                g                5                  ten  \n",
       "864                 g                8                 draw  \n",
       "2054                e                3              sixteen  \n",
       "205                 c                6                 draw  \n",
       "10059               g                8             thirteen  \n",
       "19451               e                1               twelve  \n",
       "9571                h                7             thirteen  \n",
       "3506                d                1                  two  \n",
       "15627               b                1                  two  \n",
       "11778               f                1                 four  "
      ]
     },
     "execution_count": 26,
     "metadata": {},
     "output_type": "execute_result"
    }
   ],
   "source": [
    "df.sample(10)"
   ]
  },
  {
   "cell_type": "code",
   "execution_count": 27,
   "id": "09d37744-0e28-4d5f-b79e-f31df36441be",
   "metadata": {},
   "outputs": [],
   "source": [
    "categorical = df.select_dtypes(include='object')\n",
    "numerical = df.select_dtypes(exclude='object')"
   ]
  },
  {
   "cell_type": "code",
   "execution_count": 37,
   "id": "c853ef53-6f4b-4284-be75-aefbf4cde33c",
   "metadata": {},
   "outputs": [],
   "source": [
    "def plot_categorical(df):\n",
    "    for i in df:\n",
    "        ax,fig = plt.subplots(1,figsize=(20,10))\n",
    "        ax = sns.countplot(x=df[i],order=df[i].value_counts().index)"
   ]
  },
  {
   "cell_type": "code",
   "execution_count": 38,
   "id": "54077643-cee0-4675-b05f-8978a74b2b1f",
   "metadata": {},
   "outputs": [
    {
     "data": {
      "image/png": "[encoded data removed]",
      "text/plain": [
       "<Figure size 1440x720 with 1 Axes>"
      ]
     },
     "metadata": {},
     "output_type": "display_data"
    },
    {
     "data": {
      "image/png": "[encoded data removed]",
      "text/plain": [
       "<Figure size 1440x720 with 1 Axes>"
      ]
     },
     "metadata": {},
     "output_type": "display_data"
    },
    {
     "data": {
      "image/png": "[encoded data removed]",
      "text/plain": [
       "<Figure size 1440x720 with 1 Axes>"
      ]
     },
     "metadata": {},
     "output_type": "display_data"
    },
    {
     "data": {
      "image/png": "[encoded data removed]",
      "text/plain": [
       "<Figure size 1440x720 with 1 Axes>"
      ]
     },
     "metadata": {},
     "output_type": "display_data"
    }
   ],
   "source": [
    "plot_categorical(categorical)"
   ]
  },
  {
   "cell_type": "code",
   "execution_count": 39,
   "id": "738a979d-fc2b-4966-afbd-f4a940f46dd3",
   "metadata": {},
   "outputs": [
    {
     "data": {
      "image/png": "[encoded data removed]",
      "text/plain": [
       "<Figure size 1440x720 with 1 Axes>"
      ]
     },
     "metadata": {},
     "output_type": "display_data"
    },
    {
     "data": {
      "image/png": "[encoded data removed]",
      "text/plain": [
       "<Figure size 1440x720 with 1 Axes>"
      ]
     },
     "metadata": {},
     "output_type": "display_data"
    },
    {
     "data": {
      "image/png": "[encoded data removed]",
      "text/plain": [
       "<Figure size 1440x720 with 1 Axes>"
      ]
     },
     "metadata": {},
     "output_type": "display_data"
    }
   ],
   "source": [
    "plot_categorical(numerical)"
   ]
  },
  {
   "cell_type": "code",
   "execution_count": 50,
   "id": "2ca21365-4bcc-4ed5-85c0-f789f27c5d84",
   "metadata": {},
   "outputs": [
    {
     "data": {
      "text/html": [
       "<div>\n",
       "<style scoped>\n",
       "    .dataframe tbody tr th:only-of-type {\n",
       "        vertical-align: middle;\n",
       "    }\n",
       "\n",
       "    .dataframe tbody tr th {\n",
       "        vertical-align: top;\n",
       "    }\n",
       "\n",
       "    .dataframe thead th {\n",
       "        text-align: right;\n",
       "    }\n",
       "</style>\n",
       "<table border=\"1\" class=\"dataframe\">\n",
       "  <thead>\n",
       "    <tr style=\"text-align: right;\">\n",
       "      <th></th>\n",
       "      <th>White King file</th>\n",
       "      <th>White King rank</th>\n",
       "      <th>White Rook file</th>\n",
       "      <th>White Rook rank</th>\n",
       "      <th>Black King file</th>\n",
       "      <th>Black King rank</th>\n",
       "      <th>optimal depth-of-win</th>\n",
       "    </tr>\n",
       "  </thead>\n",
       "  <tbody>\n",
       "    <tr>\n",
       "      <th>0</th>\n",
       "      <td>d</td>\n",
       "      <td>3</td>\n",
       "      <td>f</td>\n",
       "      <td>5</td>\n",
       "      <td>a</td>\n",
       "      <td>5</td>\n",
       "      <td>nine</td>\n",
       "    </tr>\n",
       "    <tr>\n",
       "      <th>1</th>\n",
       "      <td>d</td>\n",
       "      <td>3</td>\n",
       "      <td>e</td>\n",
       "      <td>5</td>\n",
       "      <td>f</td>\n",
       "      <td>2</td>\n",
       "      <td>eight</td>\n",
       "    </tr>\n",
       "    <tr>\n",
       "      <th>2</th>\n",
       "      <td>d</td>\n",
       "      <td>1</td>\n",
       "      <td>g</td>\n",
       "      <td>6</td>\n",
       "      <td>d</td>\n",
       "      <td>7</td>\n",
       "      <td>thirteen</td>\n",
       "    </tr>\n",
       "    <tr>\n",
       "      <th>3</th>\n",
       "      <td>c</td>\n",
       "      <td>2</td>\n",
       "      <td>e</td>\n",
       "      <td>8</td>\n",
       "      <td>a</td>\n",
       "      <td>4</td>\n",
       "      <td>ten</td>\n",
       "    </tr>\n",
       "    <tr>\n",
       "      <th>4</th>\n",
       "      <td>d</td>\n",
       "      <td>4</td>\n",
       "      <td>a</td>\n",
       "      <td>8</td>\n",
       "      <td>b</td>\n",
       "      <td>1</td>\n",
       "      <td>eight</td>\n",
       "    </tr>\n",
       "  </tbody>\n",
       "</table>\n",
       "</div>"
      ],
      "text/plain": [
       "  White King file  White King rank White Rook file  White Rook rank  \\\n",
       "0               d                3               f                5   \n",
       "1               d                3               e                5   \n",
       "2               d                1               g                6   \n",
       "3               c                2               e                8   \n",
       "4               d                4               a                8   \n",
       "\n",
       "  Black King file  Black King rank optimal depth-of-win  \n",
       "0               a                5                 nine  \n",
       "1               f                2                eight  \n",
       "2               d                7             thirteen  \n",
       "3               a                4                  ten  \n",
       "4               b                1                eight  "
      ]
     },
     "execution_count": 50,
     "metadata": {},
     "output_type": "execute_result"
    }
   ],
   "source": [
    "df.head()"
   ]
  },
  {
   "cell_type": "code",
   "execution_count": 218,
   "id": "516ba4fb-866c-479f-8913-70781ef0d096",
   "metadata": {},
   "outputs": [
    {
     "data": {
      "text/plain": [
       "array(['d', 'c', 'a', 'b'], dtype=object)"
      ]
     },
     "execution_count": 218,
     "metadata": {},
     "output_type": "execute_result"
    }
   ],
   "source": [
    "df['White King file'].unique()"
   ]
  },
  {
   "cell_type": "code",
   "execution_count": 150,
   "id": "577b5b8d-71e0-4b86-a858-f8fca05a50bc",
   "metadata": {},
   "outputs": [
    {
     "data": {
      "text/plain": [
       "array(['d', 'b', 'c', 'a'], dtype=object)"
      ]
     },
     "execution_count": 150,
     "metadata": {},
     "output_type": "execute_result"
    }
   ],
   "source": [
    "test['White King file'].unique()"
   ]
  },
  {
   "cell_type": "code",
   "execution_count": 152,
   "id": "b1d9484c-ab4d-4ead-8c21-6998d27e7ebf",
   "metadata": {},
   "outputs": [
    {
     "data": {
      "text/plain": [
       "White King file    0\n",
       "White King rank    0\n",
       "White Rook file    0\n",
       "White Rook rank    0\n",
       "Black King file    0\n",
       "Black King rank    0\n",
       "dtype: int64"
      ]
     },
     "execution_count": 152,
     "metadata": {},
     "output_type": "execute_result"
    }
   ],
   "source": [
    "test.isnull().sum()"
   ]
  },
  {
   "cell_type": "code",
   "execution_count": 219,
   "id": "ed36435d-50f6-4f28-a858-ed789eadfd43",
   "metadata": {},
   "outputs": [],
   "source": [
    "from sklearn.preprocessing import LabelEncoder\n",
    "categorical_features = ['White King file','White Rook file','Black King file']\n",
    "\n",
    "# make an encoder object\n",
    "encoder = LabelEncoder()\n",
    "\n",
    "# fit and transform feature x2\n",
    "for col in categorical_features:\n",
    "    encoder.fit(pd.concat([df[col], test[col]], axis=0, sort=False))\n",
    "    df[col] = encoder.transform(df[col])\n",
    "    test[col] = encoder.transform(test[col])"
   ]
  },
  {
   "cell_type": "code",
   "execution_count": 220,
   "id": "d25a9ea4-5e66-4c08-904d-7cd600adf47f",
   "metadata": {},
   "outputs": [],
   "source": [
    "encode = LabelEncoder()\n",
    "df['optimal depth-of-win'] = encode.fit_transform(df['optimal depth-of-win'])"
   ]
  },
  {
   "cell_type": "code",
   "execution_count": 221,
   "id": "37860d32-2572-47f4-8cc2-44a178e7f0df",
   "metadata": {},
   "outputs": [
    {
     "data": {
      "text/html": [
       "<div>\n",
       "<style scoped>\n",
       "    .dataframe tbody tr th:only-of-type {\n",
       "        vertical-align: middle;\n",
       "    }\n",
       "\n",
       "    .dataframe tbody tr th {\n",
       "        vertical-align: top;\n",
       "    }\n",
       "\n",
       "    .dataframe thead th {\n",
       "        text-align: right;\n",
       "    }\n",
       "</style>\n",
       "<table border=\"1\" class=\"dataframe\">\n",
       "  <thead>\n",
       "    <tr style=\"text-align: right;\">\n",
       "      <th></th>\n",
       "      <th>White King file</th>\n",
       "      <th>White King rank</th>\n",
       "      <th>White Rook file</th>\n",
       "      <th>White Rook rank</th>\n",
       "      <th>Black King file</th>\n",
       "      <th>Black King rank</th>\n",
       "      <th>optimal depth-of-win</th>\n",
       "    </tr>\n",
       "  </thead>\n",
       "  <tbody>\n",
       "    <tr>\n",
       "      <th>0</th>\n",
       "      <td>3</td>\n",
       "      <td>3</td>\n",
       "      <td>5</td>\n",
       "      <td>5</td>\n",
       "      <td>0</td>\n",
       "      <td>5</td>\n",
       "      <td>7</td>\n",
       "    </tr>\n",
       "    <tr>\n",
       "      <th>1</th>\n",
       "      <td>3</td>\n",
       "      <td>3</td>\n",
       "      <td>4</td>\n",
       "      <td>5</td>\n",
       "      <td>5</td>\n",
       "      <td>2</td>\n",
       "      <td>1</td>\n",
       "    </tr>\n",
       "    <tr>\n",
       "      <th>2</th>\n",
       "      <td>3</td>\n",
       "      <td>1</td>\n",
       "      <td>6</td>\n",
       "      <td>6</td>\n",
       "      <td>3</td>\n",
       "      <td>7</td>\n",
       "      <td>13</td>\n",
       "    </tr>\n",
       "    <tr>\n",
       "      <th>3</th>\n",
       "      <td>2</td>\n",
       "      <td>2</td>\n",
       "      <td>4</td>\n",
       "      <td>8</td>\n",
       "      <td>0</td>\n",
       "      <td>4</td>\n",
       "      <td>12</td>\n",
       "    </tr>\n",
       "    <tr>\n",
       "      <th>4</th>\n",
       "      <td>3</td>\n",
       "      <td>4</td>\n",
       "      <td>0</td>\n",
       "      <td>8</td>\n",
       "      <td>1</td>\n",
       "      <td>1</td>\n",
       "      <td>1</td>\n",
       "    </tr>\n",
       "  </tbody>\n",
       "</table>\n",
       "</div>"
      ],
      "text/plain": [
       "   White King file  White King rank  White Rook file  White Rook rank  \\\n",
       "0                3                3                5                5   \n",
       "1                3                3                4                5   \n",
       "2                3                1                6                6   \n",
       "3                2                2                4                8   \n",
       "4                3                4                0                8   \n",
       "\n",
       "   Black King file  Black King rank  optimal depth-of-win  \n",
       "0                0                5                     7  \n",
       "1                5                2                     1  \n",
       "2                3                7                    13  \n",
       "3                0                4                    12  \n",
       "4                1                1                     1  "
      ]
     },
     "execution_count": 221,
     "metadata": {},
     "output_type": "execute_result"
    }
   ],
   "source": [
    "df.head()"
   ]
  },
  {
   "cell_type": "markdown",
   "id": "399b0ad2-623f-470f-beb4-d9644edbdc36",
   "metadata": {},
   "source": [
    "### Splitting Model"
   ]
  },
  {
   "cell_type": "code",
   "execution_count": 276,
   "id": "a2177f98-732a-47dd-891d-6c5c5d27331c",
   "metadata": {},
   "outputs": [],
   "source": [
    "X = df.drop(\"optimal depth-of-win\",axis=1)\n",
    "y = df[\"optimal depth-of-win\"]"
   ]
  },
  {
   "cell_type": "code",
   "execution_count": 277,
   "id": "05dbd3da-1d70-41c2-ba13-735459d9cdb6",
   "metadata": {},
   "outputs": [],
   "source": [
    "from sklearn.model_selection import train_test_split\n",
    "X_train, X_test, y_train, y_test = train_test_split(X,y,test_size=0.2,random_state=42)"
   ]
  },
  {
   "cell_type": "code",
   "execution_count": null,
   "id": "ca81a48c-3e10-4d01-9f38-e47c777fecb4",
   "metadata": {},
   "outputs": [],
   "source": []
  },
  {
   "cell_type": "markdown",
   "id": "5bb3d24a-544e-4d9a-a851-dce8610191b7",
   "metadata": {},
   "source": [
    "### Decision Tree Classifier"
   ]
  },
  {
   "cell_type": "code",
   "execution_count": 278,
   "id": "d12e67c8-ed82-4b73-a20f-73588ee4a023",
   "metadata": {},
   "outputs": [],
   "source": [
    "from sklearn.tree import DecisionTreeClassifier\n"
   ]
  },
  {
   "cell_type": "code",
   "execution_count": 279,
   "id": "45931ef2-6fd3-4cb8-922c-ec620814a518",
   "metadata": {},
   "outputs": [],
   "source": [
    "from sklearn.tree import DecisionTreeClassifier\n",
    "dtc = DecisionTreeClassifier()"
   ]
  },
  {
   "cell_type": "code",
   "execution_count": 280,
   "id": "cbcf679e-ef06-492f-a008-63fc3706bf4b",
   "metadata": {},
   "outputs": [
    {
     "data": {
      "text/plain": [
       "DecisionTreeClassifier()"
      ]
     },
     "execution_count": 280,
     "metadata": {},
     "output_type": "execute_result"
    }
   ],
   "source": [
    "dtc.fit(X_train,y_train)"
   ]
  },
  {
   "cell_type": "code",
   "execution_count": 281,
   "id": "bb5daf9f-211e-4d3d-9c8d-a53384d881c3",
   "metadata": {},
   "outputs": [],
   "source": [
    "y_pred = dtc.predict(X_test)"
   ]
  },
  {
   "cell_type": "code",
   "execution_count": 282,
   "id": "16e4ab18-09d2-4c42-85bb-73b84faefc50",
   "metadata": {},
   "outputs": [
    {
     "data": {
      "text/plain": [
       "0.8111190306486101"
      ]
     },
     "execution_count": 282,
     "metadata": {},
     "output_type": "execute_result"
    }
   ],
   "source": [
    "accuracy_score(y_test,y_pred)"
   ]
  },
  {
   "cell_type": "code",
   "execution_count": null,
   "id": "a54a471b-da56-4373-92cb-8ebc806ce747",
   "metadata": {},
   "outputs": [],
   "source": []
  },
  {
   "cell_type": "markdown",
   "id": "705c9862-0570-48ee-bbfd-4d78c56c65c4",
   "metadata": {},
   "source": [
    "### Hyperparameter Tuning"
   ]
  },
  {
   "cell_type": "code",
   "execution_count": 271,
   "id": "1ab88bb0-db9f-4cf0-b850-8309dbcacb0d",
   "metadata": {},
   "outputs": [],
   "source": [
    "params ={\n",
    "    \"criterion\":['entropy','gini'],\n",
    "    \"max_depth\":[1,2,3,4,5,6,7,8,9,10,None]\n",
    "    \n",
    "}"
   ]
  },
  {
   "cell_type": "code",
   "execution_count": 260,
   "id": "02c1474a-c188-4b95-bdff-db12afc971c7",
   "metadata": {},
   "outputs": [
    {
     "data": {
      "text/plain": [
       "array([ 1.,  2.,  3.,  4.,  5.,  6.,  7.,  8.,  9., 10., 11., 12., 13.,\n",
       "       14., 15., 16., 17., 18., 19., 20., 21., 22., 23., 24., 25., 26.,\n",
       "       27., 28., 29., 30., 31., 32., 33., 34., 35., 36., 37., 38., 39.,\n",
       "       40., 41., 42., 43., 44., 45., 46., 47., 48., 49., 50.])"
      ]
     },
     "execution_count": 260,
     "metadata": {},
     "output_type": "execute_result"
    }
   ],
   "source": [
    "np.linspace(1,50,50)"
   ]
  },
  {
   "cell_type": "code",
   "execution_count": 272,
   "id": "a401ea98-a923-47e2-92a8-ca195aec2d3e",
   "metadata": {},
   "outputs": [],
   "source": [
    "from sklearn.model_selection import GridSearchCV\n",
    "grid = GridSearchCV(dtc,param_grid=params,cv=10,n_jobs=-1)"
   ]
  },
  {
   "cell_type": "code",
   "execution_count": 273,
   "id": "0c4efe2a-fd68-4abb-a91a-e9ac6a6262ab",
   "metadata": {},
   "outputs": [
    {
     "data": {
      "text/plain": [
       "GridSearchCV(cv=10, estimator=DecisionTreeClassifier(), n_jobs=-1,\n",
       "             param_grid={'criterion': ['entropy', 'gini'],\n",
       "                         'max_depth': [1, 2, 3, 4, 5, 6, 7, 8, 9, 10, None]})"
      ]
     },
     "execution_count": 273,
     "metadata": {},
     "output_type": "execute_result"
    }
   ],
   "source": [
    "grid.fit(X_train,y_train)"
   ]
  },
  {
   "cell_type": "code",
   "execution_count": 274,
   "id": "995bd819-fbaf-44fb-9e5e-81ca47908489",
   "metadata": {},
   "outputs": [
    {
     "data": {
      "text/plain": [
       "DecisionTreeClassifier(criterion='entropy')"
      ]
     },
     "execution_count": 274,
     "metadata": {},
     "output_type": "execute_result"
    }
   ],
   "source": [
    "grid.best_estimator_"
   ]
  },
  {
   "cell_type": "code",
   "execution_count": 275,
   "id": "5faa39c4-47c7-4cec-a149-e72d57ba0da0",
   "metadata": {},
   "outputs": [
    {
     "data": {
      "text/plain": [
       "0.788259851554528"
      ]
     },
     "execution_count": 275,
     "metadata": {},
     "output_type": "execute_result"
    }
   ],
   "source": [
    "grid.best_score_"
   ]
  },
  {
   "cell_type": "markdown",
   "id": "fcaf54a1-3ddb-4450-abec-3720bca26db4",
   "metadata": {},
   "source": [
    "### LGBM Classifier"
   ]
  },
  {
   "cell_type": "code",
   "execution_count": 292,
   "id": "8d49b25b-20ed-4769-b56a-f721e2f1b4bb",
   "metadata": {},
   "outputs": [],
   "source": [
    "from lightgbm import LGBMClassifier"
   ]
  },
  {
   "cell_type": "code",
   "execution_count": 291,
   "id": "39b0d950-852e-4e99-8e7d-fa22683f4888",
   "metadata": {},
   "outputs": [
    {
     "data": {
      "text/plain": [
       "0.6512235685435971"
      ]
     },
     "execution_count": 291,
     "metadata": {},
     "output_type": "execute_result"
    }
   ],
   "source": [
    "lgb = LGBMClassifier()\n",
    "clflgb = lgb.fit(X_train,y_train)\n",
    "y_pred_lgb = clflgb.predict(X_test)\n",
    "accuracy_score(y_test,y_pred_lgb)"
   ]
  },
  {
   "cell_type": "code",
   "execution_count": 293,
   "id": "1fdb28a3-1aca-4c00-9991-bd640cba6fc7",
   "metadata": {},
   "outputs": [
    {
     "data": {
      "text/plain": [
       "0.804704205274412"
      ]
     },
     "execution_count": 293,
     "metadata": {},
     "output_type": "execute_result"
    }
   ],
   "source": [
    "rfc = RandomForestClassifier()\n",
    "rfc.fit(X_train,y_train)\n",
    "y_pred_rfc = rfc.predict(X_test)\n",
    "accuracy_score(y_test,y_pred_rfc)"
   ]
  },
  {
   "cell_type": "markdown",
   "id": "0896a889-6b50-473e-a6dd-ca814e37217b",
   "metadata": {},
   "source": [
    "## CatBoost"
   ]
  },
  {
   "cell_type": "code",
   "execution_count": 294,
   "id": "dbb58d88-cdf6-4fe7-8374-bc232f0e2d4d",
   "metadata": {},
   "outputs": [
    {
     "name": "stdout",
     "output_type": "stream",
     "text": [
      "Learning rate set to 0.091381\n",
      "0:\tlearn: 2.6867609\ttotal: 175ms\tremaining: 2m 54s\n",
      "100:\tlearn: 1.1043754\ttotal: 2.6s\tremaining: 23.1s\n",
      "200:\tlearn: 0.8482011\ttotal: 4.97s\tremaining: 19.8s\n",
      "300:\tlearn: 0.7072484\ttotal: 7.31s\tremaining: 17s\n",
      "400:\tlearn: 0.6112849\ttotal: 9.65s\tremaining: 14.4s\n",
      "500:\tlearn: 0.5420660\ttotal: 12s\tremaining: 12s\n",
      "600:\tlearn: 0.4865112\ttotal: 14.4s\tremaining: 9.53s\n",
      "700:\tlearn: 0.4418037\ttotal: 16.8s\tremaining: 7.15s\n",
      "800:\tlearn: 0.4055359\ttotal: 19.1s\tremaining: 4.75s\n",
      "900:\tlearn: 0.3743250\ttotal: 21.5s\tremaining: 2.36s\n",
      "999:\tlearn: 0.3476772\ttotal: 23.9s\tremaining: 0us\n"
     ]
    },
    {
     "data": {
      "text/plain": [
       "0.8213352340223331"
      ]
     },
     "execution_count": 294,
     "metadata": {},
     "output_type": "execute_result"
    }
   ],
   "source": [
    "cb = CatBoostClassifier(metric_period=100)\n",
    "cb.fit(X_train,y_train)\n",
    "y_pred_cb = cb.predict(X_test)\n",
    "accuracy_score(y_test,y_pred_cb)"
   ]
  },
  {
   "cell_type": "code",
   "execution_count": 295,
   "id": "5e0bf944-d737-49e5-9b3b-56fbb4545819",
   "metadata": {},
   "outputs": [
    {
     "name": "stderr",
     "output_type": "stream",
     "text": [
      "C:\\Users\\Saurav\\anaconda3\\lib\\site-packages\\sklearn\\utils\\validation.py:63: DataConversionWarning: A column-vector y was passed when a 1d array was expected. Please change the shape of y to (n_samples, ), for example using ravel().\n",
      "  return f(*args, **kwargs)\n"
     ]
    }
   ],
   "source": [
    "pred_cb = cb.predict(test)\n",
    "predictions = encode.inverse_transform(pred_cb)"
   ]
  },
  {
   "cell_type": "code",
   "execution_count": 296,
   "id": "a58c37cf-d6d5-40a4-baa1-af7e0d5cfa68",
   "metadata": {},
   "outputs": [],
   "source": [
    "sub = pd.DataFrame({\n",
    "'prediction': predictions,\n",
    "})"
   ]
  },
  {
   "cell_type": "code",
   "execution_count": 297,
   "id": "8718c7bf-0c78-4f0b-8298-393fe6377234",
   "metadata": {},
   "outputs": [
    {
     "data": {
      "text/html": [
       "<div>\n",
       "<style scoped>\n",
       "    .dataframe tbody tr th:only-of-type {\n",
       "        vertical-align: middle;\n",
       "    }\n",
       "\n",
       "    .dataframe tbody tr th {\n",
       "        vertical-align: top;\n",
       "    }\n",
       "\n",
       "    .dataframe thead th {\n",
       "        text-align: right;\n",
       "    }\n",
       "</style>\n",
       "<table border=\"1\" class=\"dataframe\">\n",
       "  <thead>\n",
       "    <tr style=\"text-align: right;\">\n",
       "      <th></th>\n",
       "      <th>prediction</th>\n",
       "    </tr>\n",
       "  </thead>\n",
       "  <tbody>\n",
       "    <tr>\n",
       "      <th>0</th>\n",
       "      <td>thirteen</td>\n",
       "    </tr>\n",
       "    <tr>\n",
       "      <th>1</th>\n",
       "      <td>fifteen</td>\n",
       "    </tr>\n",
       "    <tr>\n",
       "      <th>2</th>\n",
       "      <td>twelve</td>\n",
       "    </tr>\n",
       "    <tr>\n",
       "      <th>3</th>\n",
       "      <td>draw</td>\n",
       "    </tr>\n",
       "    <tr>\n",
       "      <th>4</th>\n",
       "      <td>twelve</td>\n",
       "    </tr>\n",
       "  </tbody>\n",
       "</table>\n",
       "</div>"
      ],
      "text/plain": [
       "  prediction\n",
       "0   thirteen\n",
       "1    fifteen\n",
       "2     twelve\n",
       "3       draw\n",
       "4     twelve"
      ]
     },
     "execution_count": 297,
     "metadata": {},
     "output_type": "execute_result"
    }
   ],
   "source": [
    "sub.head()"
   ]
  },
  {
   "cell_type": "code",
   "execution_count": 298,
   "id": "5711428d-a9bf-4858-9c84-3fa67c76df3c",
   "metadata": {},
   "outputs": [],
   "source": [
    "sub.to_csv('CatBoost.csv')"
   ]
  },
  {
   "cell_type": "code",
   "execution_count": null,
   "id": "fcf75bb0-6551-4b5b-9fd0-a617c364fc34",
   "metadata": {},
   "outputs": [],
   "source": []
  }
 ],
 "metadata": {
  "kernelspec": {
   "display_name": "Python 3",
   "language": "python",
   "name": "python3"
  },
  "language_info": {
   "codemirror_mode": {
    "name": "ipython",
    "version": 3
   },
   "file_extension": ".py",
   "mimetype": "text/x-python",
   "name": "python",
   "nbconvert_exporter": "python",
   "pygments_lexer": "ipython3",
   "version": "3.8.8"
  },
  "widgets": {
   "application/vnd.jupyter.widget-state+json": {
    "state": {},
    "version_major": 2,
    "version_minor": 0
   }
  }
 },
 "nbformat": 4,
 "nbformat_minor": 5
}
