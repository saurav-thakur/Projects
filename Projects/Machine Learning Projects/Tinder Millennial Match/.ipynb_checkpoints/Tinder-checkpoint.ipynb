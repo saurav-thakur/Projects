{
 "cells": [
  {
   "cell_type": "code",
   "execution_count": 1,
   "id": "b7cbcf1c",
   "metadata": {},
   "outputs": [],
   "source": [
    "import numpy as np\n",
    "import pandas as pd\n",
    "import matplotlib.pyplot as plt\n",
    "import seaborn as sns"
   ]
  },
  {
   "cell_type": "code",
   "execution_count": 2,
   "id": "bc7dfd37",
   "metadata": {},
   "outputs": [],
   "source": [
    "train_data = pd.read_csv(\"https://raw.githubusercontent.com/dphi-official/Datasets/master/Tinder_Millennial_Match/train_set_label.csv\")"
   ]
  },
  {
   "cell_type": "code",
   "execution_count": 3,
   "id": "826babbc",
   "metadata": {},
   "outputs": [],
   "source": [
    "df = train_data.copy()"
   ]
  },
  {
   "cell_type": "code",
   "execution_count": 4,
   "id": "d6da1572",
   "metadata": {},
   "outputs": [
    {
     "data": {
      "text/html": [
       "<div>\n",
       "<style scoped>\n",
       "    .dataframe tbody tr th:only-of-type {\n",
       "        vertical-align: middle;\n",
       "    }\n",
       "\n",
       "    .dataframe tbody tr th {\n",
       "        vertical-align: top;\n",
       "    }\n",
       "\n",
       "    .dataframe thead th {\n",
       "        text-align: right;\n",
       "    }\n",
       "</style>\n",
       "<table border=\"1\" class=\"dataframe\">\n",
       "  <thead>\n",
       "    <tr style=\"text-align: right;\">\n",
       "      <th></th>\n",
       "      <th>ID</th>\n",
       "      <th>Segment type</th>\n",
       "      <th>Segment Description</th>\n",
       "      <th>Answer</th>\n",
       "      <th>Count</th>\n",
       "      <th>Percentage</th>\n",
       "      <th>It became a relationship</th>\n",
       "    </tr>\n",
       "  </thead>\n",
       "  <tbody>\n",
       "    <tr>\n",
       "      <th>0</th>\n",
       "      <td>292890.8970</td>\n",
       "      <td>web</td>\n",
       "      <td>Meridian, Idaho</td>\n",
       "      <td>No</td>\n",
       "      <td>0.000000</td>\n",
       "      <td>0.000000</td>\n",
       "      <td>0</td>\n",
       "    </tr>\n",
       "    <tr>\n",
       "      <th>1</th>\n",
       "      <td>292887.9870</td>\n",
       "      <td>web</td>\n",
       "      <td>Meridian, Idaho</td>\n",
       "      <td>No</td>\n",
       "      <td>0.000000</td>\n",
       "      <td>0.000000</td>\n",
       "      <td>0</td>\n",
       "    </tr>\n",
       "    <tr>\n",
       "      <th>2</th>\n",
       "      <td>292894.0656</td>\n",
       "      <td>gender</td>\n",
       "      <td>Meridian, Idaho</td>\n",
       "      <td>No</td>\n",
       "      <td>499.173606</td>\n",
       "      <td>0.225255</td>\n",
       "      <td>0</td>\n",
       "    </tr>\n",
       "    <tr>\n",
       "      <th>3</th>\n",
       "      <td>292887.1180</td>\n",
       "      <td>web</td>\n",
       "      <td>Meridian, Idaho</td>\n",
       "      <td>No</td>\n",
       "      <td>0.000000</td>\n",
       "      <td>0.000000</td>\n",
       "      <td>0</td>\n",
       "    </tr>\n",
       "    <tr>\n",
       "      <th>4</th>\n",
       "      <td>292893.6561</td>\n",
       "      <td>gender</td>\n",
       "      <td>Meridian, Idaho</td>\n",
       "      <td>No</td>\n",
       "      <td>455.925963</td>\n",
       "      <td>0.211360</td>\n",
       "      <td>0</td>\n",
       "    </tr>\n",
       "  </tbody>\n",
       "</table>\n",
       "</div>"
      ],
      "text/plain": [
       "            ID Segment type Segment Description Answer       Count  \\\n",
       "0  292890.8970          web     Meridian, Idaho     No    0.000000   \n",
       "1  292887.9870          web     Meridian, Idaho     No    0.000000   \n",
       "2  292894.0656       gender     Meridian, Idaho     No  499.173606   \n",
       "3  292887.1180          web     Meridian, Idaho     No    0.000000   \n",
       "4  292893.6561       gender     Meridian, Idaho     No  455.925963   \n",
       "\n",
       "   Percentage  It became a relationship  \n",
       "0    0.000000                         0  \n",
       "1    0.000000                         0  \n",
       "2    0.225255                         0  \n",
       "3    0.000000                         0  \n",
       "4    0.211360                         0  "
      ]
     },
     "execution_count": 4,
     "metadata": {},
     "output_type": "execute_result"
    }
   ],
   "source": [
    "df.head()"
   ]
  },
  {
   "cell_type": "code",
   "execution_count": 5,
   "id": "5a9418cf",
   "metadata": {},
   "outputs": [
    {
     "data": {
      "text/plain": [
       "(1896, 7)"
      ]
     },
     "execution_count": 5,
     "metadata": {},
     "output_type": "execute_result"
    }
   ],
   "source": [
    "df.shape"
   ]
  },
  {
   "cell_type": "code",
   "execution_count": 6,
   "id": "cefebf1c",
   "metadata": {},
   "outputs": [
    {
     "name": "stdout",
     "output_type": "stream",
     "text": [
      "<class 'pandas.core.frame.DataFrame'>\n",
      "RangeIndex: 1896 entries, 0 to 1895\n",
      "Data columns (total 7 columns):\n",
      " #   Column                    Non-Null Count  Dtype  \n",
      "---  ------                    --------------  -----  \n",
      " 0   ID                        1896 non-null   float64\n",
      " 1   Segment type              1896 non-null   object \n",
      " 2   Segment Description       1896 non-null   object \n",
      " 3   Answer                    1896 non-null   object \n",
      " 4   Count                     1896 non-null   float64\n",
      " 5   Percentage                1896 non-null   float64\n",
      " 6   It became a relationship  1896 non-null   int64  \n",
      "dtypes: float64(3), int64(1), object(3)\n",
      "memory usage: 103.8+ KB\n"
     ]
    }
   ],
   "source": [
    "df.info()"
   ]
  },
  {
   "cell_type": "code",
   "execution_count": 7,
   "id": "6e115b83",
   "metadata": {},
   "outputs": [
    {
     "data": {
      "text/html": [
       "<div>\n",
       "<style scoped>\n",
       "    .dataframe tbody tr th:only-of-type {\n",
       "        vertical-align: middle;\n",
       "    }\n",
       "\n",
       "    .dataframe tbody tr th {\n",
       "        vertical-align: top;\n",
       "    }\n",
       "\n",
       "    .dataframe thead th {\n",
       "        text-align: right;\n",
       "    }\n",
       "</style>\n",
       "<table border=\"1\" class=\"dataframe\">\n",
       "  <thead>\n",
       "    <tr style=\"text-align: right;\">\n",
       "      <th></th>\n",
       "      <th>count</th>\n",
       "      <th>mean</th>\n",
       "      <th>std</th>\n",
       "      <th>min</th>\n",
       "      <th>25%</th>\n",
       "      <th>50%</th>\n",
       "      <th>75%</th>\n",
       "      <th>max</th>\n",
       "    </tr>\n",
       "  </thead>\n",
       "  <tbody>\n",
       "    <tr>\n",
       "      <th>ID</th>\n",
       "      <td>1896.0</td>\n",
       "      <td>292999.394750</td>\n",
       "      <td>227.809806</td>\n",
       "      <td>292881.0</td>\n",
       "      <td>292888.196925</td>\n",
       "      <td>292893.904400</td>\n",
       "      <td>292902.568750</td>\n",
       "      <td>293785.0</td>\n",
       "    </tr>\n",
       "    <tr>\n",
       "      <th>Count</th>\n",
       "      <td>1896.0</td>\n",
       "      <td>446.881267</td>\n",
       "      <td>494.110578</td>\n",
       "      <td>0.0</td>\n",
       "      <td>0.000000</td>\n",
       "      <td>400.439633</td>\n",
       "      <td>845.560798</td>\n",
       "      <td>1969.0</td>\n",
       "    </tr>\n",
       "    <tr>\n",
       "      <th>Percentage</th>\n",
       "      <td>1896.0</td>\n",
       "      <td>0.254098</td>\n",
       "      <td>0.220809</td>\n",
       "      <td>0.0</td>\n",
       "      <td>0.000000</td>\n",
       "      <td>0.257873</td>\n",
       "      <td>0.396787</td>\n",
       "      <td>1.0</td>\n",
       "    </tr>\n",
       "    <tr>\n",
       "      <th>It became a relationship</th>\n",
       "      <td>1896.0</td>\n",
       "      <td>0.350738</td>\n",
       "      <td>0.477327</td>\n",
       "      <td>0.0</td>\n",
       "      <td>0.000000</td>\n",
       "      <td>0.000000</td>\n",
       "      <td>1.000000</td>\n",
       "      <td>1.0</td>\n",
       "    </tr>\n",
       "  </tbody>\n",
       "</table>\n",
       "</div>"
      ],
      "text/plain": [
       "                           count           mean         std       min  \\\n",
       "ID                        1896.0  292999.394750  227.809806  292881.0   \n",
       "Count                     1896.0     446.881267  494.110578       0.0   \n",
       "Percentage                1896.0       0.254098    0.220809       0.0   \n",
       "It became a relationship  1896.0       0.350738    0.477327       0.0   \n",
       "\n",
       "                                    25%            50%            75%  \\\n",
       "ID                        292888.196925  292893.904400  292902.568750   \n",
       "Count                          0.000000     400.439633     845.560798   \n",
       "Percentage                     0.000000       0.257873       0.396787   \n",
       "It became a relationship       0.000000       0.000000       1.000000   \n",
       "\n",
       "                               max  \n",
       "ID                        293785.0  \n",
       "Count                       1969.0  \n",
       "Percentage                     1.0  \n",
       "It became a relationship       1.0  "
      ]
     },
     "execution_count": 7,
     "metadata": {},
     "output_type": "execute_result"
    }
   ],
   "source": [
    "df.describe().T"
   ]
  },
  {
   "cell_type": "code",
   "execution_count": 8,
   "id": "c0beceda",
   "metadata": {},
   "outputs": [
    {
     "data": {
      "text/plain": [
       "ID                          1888\n",
       "Segment type                   4\n",
       "Segment Description          148\n",
       "Answer                         3\n",
       "Count                       1125\n",
       "Percentage                  1172\n",
       "It became a relationship       2\n",
       "dtype: int64"
      ]
     },
     "execution_count": 8,
     "metadata": {},
     "output_type": "execute_result"
    }
   ],
   "source": [
    "df.nunique()"
   ]
  },
  {
   "cell_type": "code",
   "execution_count": 9,
   "id": "4d80b7c4",
   "metadata": {},
   "outputs": [
    {
     "data": {
      "text/plain": [
       "array(['Meridian, Idaho', 'University of Iowa',\n",
       "       'University of Wisconsin-Madison',\n",
       "       'University of California, Davis',\n",
       "       'University of California, San Diego', 'Cal Poly San Luis Obispo',\n",
       "       'Wesleyan University', 'University of Delaware', 'Ohio University',\n",
       "       'University of California, Santa Cruz',\n",
       "       'University of Colorado Boulder',\n",
       "       'Rochester Institute of Technology', 'Morehead State University',\n",
       "       'University of Georgia', 'Southern Methodist University',\n",
       "       'University of Miami', 'University of Arizona',\n",
       "       'Sacred Heart University', 'Northern Illinois University',\n",
       "       'Yale University', 'University of Washington',\n",
       "       'University of Central Florida', 'Ithaca College',\n",
       "       'University of North Carolina', 'Loyola University Maryland',\n",
       "       'Westport, CT', 'University of Pittsburgh',\n",
       "       'Johns Hopkins University', 'Indiana University',\n",
       "       'Vanderbilt University', 'Miami University (Ohio)',\n",
       "       'Massachusetts Institute of Technology',\n",
       "       'Michigan Technological University', 'Colby College',\n",
       "       'University of Tampa', 'Chapman University',\n",
       "       'Washington University in St. Louis', 'Boston University',\n",
       "       'Gonzaga University', 'Dartmouth College', 'Mobile respondents',\n",
       "       'Santa Clara University', 'University of Mississippi',\n",
       "       'Appalachian State University', 'Tufts University',\n",
       "       'Male respondents', 'Randolph-Macon College',\n",
       "       'University of Pennsylvania', 'Ohio State University',\n",
       "       'University of Buffalo', 'New York University',\n",
       "       'Florida International University', 'University of Notre Dame',\n",
       "       'United States Naval Academy', 'University of Denver',\n",
       "       'University of Central Oklahoma', 'Union College',\n",
       "       'Columbia University', 'Cornell University',\n",
       "       'University of Tennessee', 'Washington State University',\n",
       "       'Northern Arizona University', 'Butler University',\n",
       "       'University of Missouri', 'University of Maryland',\n",
       "       'Colorado State University',\n",
       "       'University of California, Los Angeles', 'Stanford University',\n",
       "       'University of Rochester', 'University of Arkansas',\n",
       "       'University of Oregon', 'University of Virginia',\n",
       "       'Arizona State University', 'University of California, Berkeley',\n",
       "       'Purdue University', 'University of Chicago',\n",
       "       'Brigham Young University', 'Princeton University',\n",
       "       'Cal State Northridge', 'St. Lawrence University',\n",
       "       'University of Wisconsin, Eau Claire', 'Arkansas State University',\n",
       "       'Carnegie Mellon University', 'Case Western Reserve University',\n",
       "       'Marquette University', 'Texas Christian University',\n",
       "       'Old Dominion University', 'Female respondents',\n",
       "       'University of Wisconsin-La Crosse', 'Vassar College',\n",
       "       'Williams College', 'Illinois State', 'University of Connecticut',\n",
       "       'University of Kentucky', 'Roger Williams University',\n",
       "       'University of Texas', 'Northwestern University',\n",
       "       'University of Illinois', 'University of Alabama',\n",
       "       'Georgetown University', 'Quinnipiac University',\n",
       "       'University of California, Santa Barbara', 'Baylor University',\n",
       "       'Clemson University', 'Loyola Marymount University',\n",
       "       'Pepperdine University', 'University of Kansas',\n",
       "       'University of Richmond', 'Texas A&M University',\n",
       "       'University of Southern California', 'University of Minnesota',\n",
       "       'Syracuse University', 'Michigan State University',\n",
       "       'University of Florida', 'Boston College', 'University of Dayton',\n",
       "       'Mississippi State University', 'Skidmore College',\n",
       "       'Penn State University', 'Middlebury College',\n",
       "       'University of Michigan', 'Elon University',\n",
       "       'Whatsgoodly University', 'UMass Amherst',\n",
       "       'James Madison University', 'Rice University ',\n",
       "       'Providence College', 'Lehigh University', 'Emory University',\n",
       "       'University of Wisconsin-Whitewater', 'University of Maine',\n",
       "       'Auburn University', 'Florida State University',\n",
       "       'Web-based respondents', 'University of St Andrews',\n",
       "       'Duke University', 'George Washington University',\n",
       "       'Louisiana State University', 'Centre College',\n",
       "       'College of William and Mary', 'Castleton State College',\n",
       "       'Texas Tech University', 'University of Oklahoma',\n",
       "       'Harvard University', 'Iowa State University',\n",
       "       'San Diego State University', 'Tulane University',\n",
       "       'North Carolina State'], dtype=object)"
      ]
     },
     "execution_count": 9,
     "metadata": {},
     "output_type": "execute_result"
    }
   ],
   "source": [
    "df['Segment Description'].unique()"
   ]
  },
  {
   "cell_type": "code",
   "execution_count": 10,
   "id": "812d45d4",
   "metadata": {},
   "outputs": [
    {
     "data": {
      "text/html": [
       "<div>\n",
       "<style scoped>\n",
       "    .dataframe tbody tr th:only-of-type {\n",
       "        vertical-align: middle;\n",
       "    }\n",
       "\n",
       "    .dataframe tbody tr th {\n",
       "        vertical-align: top;\n",
       "    }\n",
       "\n",
       "    .dataframe thead th {\n",
       "        text-align: right;\n",
       "    }\n",
       "</style>\n",
       "<table border=\"1\" class=\"dataframe\">\n",
       "  <thead>\n",
       "    <tr style=\"text-align: right;\">\n",
       "      <th></th>\n",
       "      <th>ID</th>\n",
       "      <th>Segment type</th>\n",
       "      <th>Segment Description</th>\n",
       "      <th>Answer</th>\n",
       "      <th>Count</th>\n",
       "      <th>Percentage</th>\n",
       "      <th>It became a relationship</th>\n",
       "    </tr>\n",
       "  </thead>\n",
       "  <tbody>\n",
       "    <tr>\n",
       "      <th>0</th>\n",
       "      <td>292890.8970</td>\n",
       "      <td>web</td>\n",
       "      <td>Meridian, Idaho</td>\n",
       "      <td>No</td>\n",
       "      <td>0.000000</td>\n",
       "      <td>0.000000</td>\n",
       "      <td>0</td>\n",
       "    </tr>\n",
       "    <tr>\n",
       "      <th>1</th>\n",
       "      <td>292887.9870</td>\n",
       "      <td>web</td>\n",
       "      <td>Meridian, Idaho</td>\n",
       "      <td>No</td>\n",
       "      <td>0.000000</td>\n",
       "      <td>0.000000</td>\n",
       "      <td>0</td>\n",
       "    </tr>\n",
       "    <tr>\n",
       "      <th>2</th>\n",
       "      <td>292894.0656</td>\n",
       "      <td>gender</td>\n",
       "      <td>Meridian, Idaho</td>\n",
       "      <td>No</td>\n",
       "      <td>499.173606</td>\n",
       "      <td>0.225255</td>\n",
       "      <td>0</td>\n",
       "    </tr>\n",
       "    <tr>\n",
       "      <th>3</th>\n",
       "      <td>292887.1180</td>\n",
       "      <td>web</td>\n",
       "      <td>Meridian, Idaho</td>\n",
       "      <td>No</td>\n",
       "      <td>0.000000</td>\n",
       "      <td>0.000000</td>\n",
       "      <td>0</td>\n",
       "    </tr>\n",
       "    <tr>\n",
       "      <th>4</th>\n",
       "      <td>292893.6561</td>\n",
       "      <td>gender</td>\n",
       "      <td>Meridian, Idaho</td>\n",
       "      <td>No</td>\n",
       "      <td>455.925963</td>\n",
       "      <td>0.211360</td>\n",
       "      <td>0</td>\n",
       "    </tr>\n",
       "  </tbody>\n",
       "</table>\n",
       "</div>"
      ],
      "text/plain": [
       "            ID Segment type Segment Description Answer       Count  \\\n",
       "0  292890.8970          web     Meridian, Idaho     No    0.000000   \n",
       "1  292887.9870          web     Meridian, Idaho     No    0.000000   \n",
       "2  292894.0656       gender     Meridian, Idaho     No  499.173606   \n",
       "3  292887.1180          web     Meridian, Idaho     No    0.000000   \n",
       "4  292893.6561       gender     Meridian, Idaho     No  455.925963   \n",
       "\n",
       "   Percentage  It became a relationship  \n",
       "0    0.000000                         0  \n",
       "1    0.000000                         0  \n",
       "2    0.225255                         0  \n",
       "3    0.000000                         0  \n",
       "4    0.211360                         0  "
      ]
     },
     "execution_count": 10,
     "metadata": {},
     "output_type": "execute_result"
    }
   ],
   "source": [
    "df.head()"
   ]
  },
  {
   "cell_type": "code",
   "execution_count": 11,
   "id": "de0ba049",
   "metadata": {},
   "outputs": [
    {
     "data": {
      "text/plain": [
       "0    1231\n",
       "1     665\n",
       "Name: It became a relationship, dtype: int64"
      ]
     },
     "execution_count": 11,
     "metadata": {},
     "output_type": "execute_result"
    }
   ],
   "source": [
    "df[\"It became a relationship\"].value_counts()"
   ]
  },
  {
   "cell_type": "code",
   "execution_count": 12,
   "id": "9ca3f8b0",
   "metadata": {},
   "outputs": [
    {
     "data": {
      "text/plain": [
       "0.6492616033755274"
      ]
     },
     "execution_count": 12,
     "metadata": {},
     "output_type": "execute_result"
    }
   ],
   "source": [
    "1231/1896"
   ]
  },
  {
   "cell_type": "code",
   "execution_count": 13,
   "id": "ce454146",
   "metadata": {},
   "outputs": [
    {
     "data": {
      "text/html": [
       "<div>\n",
       "<style scoped>\n",
       "    .dataframe tbody tr th:only-of-type {\n",
       "        vertical-align: middle;\n",
       "    }\n",
       "\n",
       "    .dataframe tbody tr th {\n",
       "        vertical-align: top;\n",
       "    }\n",
       "\n",
       "    .dataframe thead th {\n",
       "        text-align: right;\n",
       "    }\n",
       "</style>\n",
       "<table border=\"1\" class=\"dataframe\">\n",
       "  <thead>\n",
       "    <tr style=\"text-align: right;\">\n",
       "      <th></th>\n",
       "      <th>Segment type</th>\n",
       "      <th>Answer</th>\n",
       "      <th>Count</th>\n",
       "      <th>Percentage</th>\n",
       "      <th>It became a relationship</th>\n",
       "    </tr>\n",
       "  </thead>\n",
       "  <tbody>\n",
       "    <tr>\n",
       "      <th>0</th>\n",
       "      <td>web</td>\n",
       "      <td>No</td>\n",
       "      <td>0.000000</td>\n",
       "      <td>0.000000</td>\n",
       "      <td>0</td>\n",
       "    </tr>\n",
       "    <tr>\n",
       "      <th>1</th>\n",
       "      <td>web</td>\n",
       "      <td>No</td>\n",
       "      <td>0.000000</td>\n",
       "      <td>0.000000</td>\n",
       "      <td>0</td>\n",
       "    </tr>\n",
       "    <tr>\n",
       "      <th>2</th>\n",
       "      <td>gender</td>\n",
       "      <td>No</td>\n",
       "      <td>499.173606</td>\n",
       "      <td>0.225255</td>\n",
       "      <td>0</td>\n",
       "    </tr>\n",
       "    <tr>\n",
       "      <th>3</th>\n",
       "      <td>web</td>\n",
       "      <td>No</td>\n",
       "      <td>0.000000</td>\n",
       "      <td>0.000000</td>\n",
       "      <td>0</td>\n",
       "    </tr>\n",
       "    <tr>\n",
       "      <th>4</th>\n",
       "      <td>gender</td>\n",
       "      <td>No</td>\n",
       "      <td>455.925963</td>\n",
       "      <td>0.211360</td>\n",
       "      <td>0</td>\n",
       "    </tr>\n",
       "  </tbody>\n",
       "</table>\n",
       "</div>"
      ],
      "text/plain": [
       "  Segment type Answer       Count  Percentage  It became a relationship\n",
       "0          web     No    0.000000    0.000000                         0\n",
       "1          web     No    0.000000    0.000000                         0\n",
       "2       gender     No  499.173606    0.225255                         0\n",
       "3          web     No    0.000000    0.000000                         0\n",
       "4       gender     No  455.925963    0.211360                         0"
      ]
     },
     "execution_count": 13,
     "metadata": {},
     "output_type": "execute_result"
    }
   ],
   "source": [
    "df1 = df.drop([\"ID\",\"Segment Description\"],axis=1)\n",
    "df1.head()"
   ]
  },
  {
   "cell_type": "code",
   "execution_count": 14,
   "id": "7737e7b8",
   "metadata": {},
   "outputs": [
    {
     "data": {
      "text/html": [
       "<div>\n",
       "<style scoped>\n",
       "    .dataframe tbody tr th:only-of-type {\n",
       "        vertical-align: middle;\n",
       "    }\n",
       "\n",
       "    .dataframe tbody tr th {\n",
       "        vertical-align: top;\n",
       "    }\n",
       "\n",
       "    .dataframe thead th {\n",
       "        text-align: right;\n",
       "    }\n",
       "</style>\n",
       "<table border=\"1\" class=\"dataframe\">\n",
       "  <thead>\n",
       "    <tr style=\"text-align: right;\">\n",
       "      <th></th>\n",
       "      <th>Count</th>\n",
       "      <th>Percentage</th>\n",
       "      <th>It became a relationship</th>\n",
       "      <th>Segment type_gender</th>\n",
       "      <th>Segment type_mobile</th>\n",
       "      <th>Segment type_university</th>\n",
       "      <th>Segment type_web</th>\n",
       "      <th>Answer_I don't use Tinder</th>\n",
       "      <th>Answer_No</th>\n",
       "      <th>Answer_Yes</th>\n",
       "    </tr>\n",
       "  </thead>\n",
       "  <tbody>\n",
       "    <tr>\n",
       "      <th>0</th>\n",
       "      <td>0.000000</td>\n",
       "      <td>0.000000</td>\n",
       "      <td>0</td>\n",
       "      <td>0</td>\n",
       "      <td>0</td>\n",
       "      <td>0</td>\n",
       "      <td>1</td>\n",
       "      <td>0</td>\n",
       "      <td>1</td>\n",
       "      <td>0</td>\n",
       "    </tr>\n",
       "    <tr>\n",
       "      <th>1</th>\n",
       "      <td>0.000000</td>\n",
       "      <td>0.000000</td>\n",
       "      <td>0</td>\n",
       "      <td>0</td>\n",
       "      <td>0</td>\n",
       "      <td>0</td>\n",
       "      <td>1</td>\n",
       "      <td>0</td>\n",
       "      <td>1</td>\n",
       "      <td>0</td>\n",
       "    </tr>\n",
       "    <tr>\n",
       "      <th>2</th>\n",
       "      <td>499.173606</td>\n",
       "      <td>0.225255</td>\n",
       "      <td>0</td>\n",
       "      <td>1</td>\n",
       "      <td>0</td>\n",
       "      <td>0</td>\n",
       "      <td>0</td>\n",
       "      <td>0</td>\n",
       "      <td>1</td>\n",
       "      <td>0</td>\n",
       "    </tr>\n",
       "    <tr>\n",
       "      <th>3</th>\n",
       "      <td>0.000000</td>\n",
       "      <td>0.000000</td>\n",
       "      <td>0</td>\n",
       "      <td>0</td>\n",
       "      <td>0</td>\n",
       "      <td>0</td>\n",
       "      <td>1</td>\n",
       "      <td>0</td>\n",
       "      <td>1</td>\n",
       "      <td>0</td>\n",
       "    </tr>\n",
       "    <tr>\n",
       "      <th>4</th>\n",
       "      <td>455.925963</td>\n",
       "      <td>0.211360</td>\n",
       "      <td>0</td>\n",
       "      <td>1</td>\n",
       "      <td>0</td>\n",
       "      <td>0</td>\n",
       "      <td>0</td>\n",
       "      <td>0</td>\n",
       "      <td>1</td>\n",
       "      <td>0</td>\n",
       "    </tr>\n",
       "  </tbody>\n",
       "</table>\n",
       "</div>"
      ],
      "text/plain": [
       "        Count  Percentage  It became a relationship  Segment type_gender  \\\n",
       "0    0.000000    0.000000                         0                    0   \n",
       "1    0.000000    0.000000                         0                    0   \n",
       "2  499.173606    0.225255                         0                    1   \n",
       "3    0.000000    0.000000                         0                    0   \n",
       "4  455.925963    0.211360                         0                    1   \n",
       "\n",
       "   Segment type_mobile  Segment type_university  Segment type_web  \\\n",
       "0                    0                        0                 1   \n",
       "1                    0                        0                 1   \n",
       "2                    0                        0                 0   \n",
       "3                    0                        0                 1   \n",
       "4                    0                        0                 0   \n",
       "\n",
       "   Answer_I don't use Tinder  Answer_No  Answer_Yes  \n",
       "0                          0          1           0  \n",
       "1                          0          1           0  \n",
       "2                          0          1           0  \n",
       "3                          0          1           0  \n",
       "4                          0          1           0  "
      ]
     },
     "execution_count": 14,
     "metadata": {},
     "output_type": "execute_result"
    }
   ],
   "source": [
    "df2 = pd.get_dummies(df1)\n",
    "df2.head()"
   ]
  },
  {
   "cell_type": "code",
   "execution_count": 48,
   "id": "7ef04573",
   "metadata": {},
   "outputs": [
    {
     "data": {
      "text/plain": [
       "(1896, 10)"
      ]
     },
     "execution_count": 48,
     "metadata": {},
     "output_type": "execute_result"
    }
   ],
   "source": [
    "df2.shape"
   ]
  },
  {
   "cell_type": "code",
   "execution_count": 15,
   "id": "9d01f5b6",
   "metadata": {},
   "outputs": [],
   "source": [
    "X = df2.drop(\"It became a relationship\",axis=1)\n",
    "y = df2[\"It became a relationship\"]"
   ]
  },
  {
   "cell_type": "code",
   "execution_count": 16,
   "id": "150810e5",
   "metadata": {},
   "outputs": [],
   "source": [
    "from sklearn.model_selection import train_test_split"
   ]
  },
  {
   "cell_type": "code",
   "execution_count": 17,
   "id": "18154726",
   "metadata": {},
   "outputs": [],
   "source": [
    "X_train,X_test,y_train,y_test = train_test_split(X,y,test_size=0.2,random_state=42)"
   ]
  },
  {
   "cell_type": "code",
   "execution_count": 18,
   "id": "c0f2c79f",
   "metadata": {},
   "outputs": [],
   "source": [
    "from xgboost import XGBClassifier"
   ]
  },
  {
   "cell_type": "code",
   "execution_count": 19,
   "id": "7fc3d195",
   "metadata": {},
   "outputs": [],
   "source": [
    "from sklearn.metrics import accuracy_score"
   ]
  },
  {
   "cell_type": "code",
   "execution_count": 20,
   "id": "a9bc8c9a",
   "metadata": {},
   "outputs": [],
   "source": [
    "xgb_model = XGBClassifier()"
   ]
  },
  {
   "cell_type": "code",
   "execution_count": 21,
   "id": "f4b174dc",
   "metadata": {},
   "outputs": [],
   "source": [
    "def new_model(model):\n",
    "    model.fit(X_train,y_train)\n",
    "    y_pred = model.predict(X_test)\n",
    "    accuracy = accuracy_score(y_test,y_pred)\n",
    "    \n",
    "    return accuracy\n"
   ]
  },
  {
   "cell_type": "code",
   "execution_count": 22,
   "id": "d38d2e5f",
   "metadata": {},
   "outputs": [
    {
     "name": "stderr",
     "output_type": "stream",
     "text": [
      "C:\\Users\\Saurav\\anaconda3\\lib\\site-packages\\xgboost\\sklearn.py:1146: UserWarning: The use of label encoder in XGBClassifier is deprecated and will be removed in a future release. To remove this warning, do the following: 1) Pass option use_label_encoder=False when constructing XGBClassifier object; and 2) Encode your labels (y) as integers starting with 0, i.e. 0, 1, 2, ..., [num_class - 1].\n",
      "  warnings.warn(label_encoder_deprecation_msg, UserWarning)\n",
      "C:\\Users\\Saurav\\anaconda3\\lib\\site-packages\\xgboost\\data.py:112: UserWarning: Use subset (sliced data) of np.ndarray is not recommended because it will generate extra copies and increase memory consumption\n",
      "  warnings.warn(\n"
     ]
    },
    {
     "name": "stdout",
     "output_type": "stream",
     "text": [
      "[21:06:04] WARNING: C:/Users/Administrator/workspace/xgboost-win64_release_1.4.0/src/learner.cc:1095: Starting in XGBoost 1.3.0, the default evaluation metric used with the objective 'binary:logistic' was changed from 'error' to 'logloss'. Explicitly set eval_metric if you'd like to restore the old behavior.\n"
     ]
    },
    {
     "data": {
      "text/plain": [
       "0.9026315789473685"
      ]
     },
     "execution_count": 22,
     "metadata": {},
     "output_type": "execute_result"
    }
   ],
   "source": [
    "new_model(xgb_model)"
   ]
  },
  {
   "cell_type": "code",
   "execution_count": 23,
   "id": "17729ab4",
   "metadata": {},
   "outputs": [],
   "source": [
    "from sklearn.ensemble import RandomForestClassifier"
   ]
  },
  {
   "cell_type": "code",
   "execution_count": 24,
   "id": "45985341",
   "metadata": {},
   "outputs": [],
   "source": [
    "rfc_model = RandomForestClassifier()"
   ]
  },
  {
   "cell_type": "code",
   "execution_count": 25,
   "id": "90706b99",
   "metadata": {},
   "outputs": [
    {
     "data": {
      "text/plain": [
       "0.8973684210526316"
      ]
     },
     "execution_count": 25,
     "metadata": {},
     "output_type": "execute_result"
    }
   ],
   "source": [
    "new_model(rfc_model)"
   ]
  },
  {
   "cell_type": "markdown",
   "id": "2fceef5b",
   "metadata": {},
   "source": [
    "### Neural Network"
   ]
  },
  {
   "cell_type": "code",
   "execution_count": 28,
   "id": "1a6e3775",
   "metadata": {},
   "outputs": [],
   "source": [
    "import tensorflow as tf\n",
    "from tensorflow.keras import Sequential\n",
    "from tensorflow.keras.layers import Dense\n",
    "from tensorflow.keras.optimizers import Adam"
   ]
  },
  {
   "cell_type": "code",
   "execution_count": 27,
   "id": "b278701c",
   "metadata": {},
   "outputs": [],
   "source": [
    "nn_model = Sequential()\n",
    "nn_model.add(Dense(64,activation='relu',input_shape=(X.shape[1],))),\n",
    "nn_model.add(Dense(32,activation='relu')),\n",
    "nn_model.add(Dense(16,activation='relu')),\n",
    "nn_model.add(Dense(8,activation='relu')),\n",
    "nn_model.add(Dense(1,activation='sigmoid'))"
   ]
  },
  {
   "cell_type": "code",
   "execution_count": 29,
   "id": "0997587d",
   "metadata": {},
   "outputs": [],
   "source": [
    "nn_model.compile(optimizer='adam',loss='binary_crossentropy',metrics=[\"accuracy\"])"
   ]
  },
  {
   "cell_type": "code",
   "execution_count": 31,
   "id": "c627e5c6",
   "metadata": {},
   "outputs": [
    {
     "name": "stdout",
     "output_type": "stream",
     "text": [
      "Epoch 1/100\n",
      "122/122 [==============================] - 0s 2ms/step - loss: 0.5266 - accuracy: 0.6700 - val_loss: 0.4920 - val_accuracy: 0.6809\n",
      "Epoch 2/100\n",
      "122/122 [==============================] - 0s 1ms/step - loss: 0.5259 - accuracy: 0.6675 - val_loss: 0.4926 - val_accuracy: 0.6809\n",
      "Epoch 3/100\n",
      "122/122 [==============================] - 0s 1ms/step - loss: 0.5260 - accuracy: 0.6708 - val_loss: 0.4922 - val_accuracy: 0.6809\n",
      "Epoch 4/100\n",
      "122/122 [==============================] - 0s 1ms/step - loss: 0.5261 - accuracy: 0.6683 - val_loss: 0.4927 - val_accuracy: 0.6809\n",
      "Epoch 5/100\n",
      "122/122 [==============================] - 0s 1ms/step - loss: 0.5260 - accuracy: 0.6667 - val_loss: 0.4927 - val_accuracy: 0.6809\n",
      "Epoch 6/100\n",
      "122/122 [==============================] - 0s 1ms/step - loss: 0.5259 - accuracy: 0.6700 - val_loss: 0.4928 - val_accuracy: 0.6809\n",
      "Epoch 7/100\n",
      "122/122 [==============================] - 0s 1ms/step - loss: 0.5256 - accuracy: 0.6700 - val_loss: 0.4926 - val_accuracy: 0.6809\n",
      "Epoch 8/100\n",
      "122/122 [==============================] - 0s 1ms/step - loss: 0.5331 - accuracy: 0.6617 - val_loss: 0.4920 - val_accuracy: 0.6842\n",
      "Epoch 9/100\n",
      "122/122 [==============================] - 0s 1ms/step - loss: 0.5265 - accuracy: 0.6675 - val_loss: 0.4918 - val_accuracy: 0.6842\n",
      "Epoch 10/100\n",
      "122/122 [==============================] - 0s 1ms/step - loss: 0.5260 - accuracy: 0.6683 - val_loss: 0.4929 - val_accuracy: 0.6842\n",
      "Epoch 11/100\n",
      "122/122 [==============================] - 0s 1ms/step - loss: 0.5257 - accuracy: 0.6691 - val_loss: 0.4933 - val_accuracy: 0.6875\n",
      "Epoch 12/100\n",
      "122/122 [==============================] - 0s 1ms/step - loss: 0.5260 - accuracy: 0.6700 - val_loss: 0.4928 - val_accuracy: 0.6875\n",
      "Epoch 13/100\n",
      "122/122 [==============================] - 0s 1ms/step - loss: 0.5257 - accuracy: 0.6700 - val_loss: 0.4925 - val_accuracy: 0.6776\n",
      "Epoch 14/100\n",
      "122/122 [==============================] - 0s 1ms/step - loss: 0.5256 - accuracy: 0.6691 - val_loss: 0.4933 - val_accuracy: 0.6842\n",
      "Epoch 15/100\n",
      "122/122 [==============================] - 0s 1ms/step - loss: 0.5258 - accuracy: 0.6634 - val_loss: 0.4920 - val_accuracy: 0.6809\n",
      "Epoch 16/100\n",
      "122/122 [==============================] - 0s 1ms/step - loss: 0.5257 - accuracy: 0.6675 - val_loss: 0.4934 - val_accuracy: 0.6875\n",
      "Epoch 17/100\n",
      "122/122 [==============================] - 0s 1ms/step - loss: 0.5256 - accuracy: 0.6683 - val_loss: 0.4927 - val_accuracy: 0.6776\n",
      "Epoch 18/100\n",
      "122/122 [==============================] - 0s 1ms/step - loss: 0.5250 - accuracy: 0.6691 - val_loss: 0.4924 - val_accuracy: 0.6776\n",
      "Epoch 19/100\n",
      "122/122 [==============================] - 0s 1ms/step - loss: 0.5250 - accuracy: 0.6683 - val_loss: 0.4927 - val_accuracy: 0.6776\n",
      "Epoch 20/100\n",
      "122/122 [==============================] - 0s 1ms/step - loss: 0.5252 - accuracy: 0.6667 - val_loss: 0.4930 - val_accuracy: 0.6809\n",
      "Epoch 21/100\n",
      "122/122 [==============================] - 0s 1ms/step - loss: 0.5248 - accuracy: 0.6700 - val_loss: 0.4932 - val_accuracy: 0.6776\n",
      "Epoch 22/100\n",
      "122/122 [==============================] - 0s 1ms/step - loss: 0.5253 - accuracy: 0.6667 - val_loss: 0.4930 - val_accuracy: 0.6776\n",
      "Epoch 23/100\n",
      "122/122 [==============================] - 0s 1ms/step - loss: 0.5249 - accuracy: 0.6683 - val_loss: 0.4920 - val_accuracy: 0.6842\n",
      "Epoch 24/100\n",
      "122/122 [==============================] - 0s 1ms/step - loss: 0.5249 - accuracy: 0.6708 - val_loss: 0.4922 - val_accuracy: 0.6875\n",
      "Epoch 25/100\n",
      "122/122 [==============================] - 0s 1ms/step - loss: 0.5249 - accuracy: 0.6700 - val_loss: 0.4928 - val_accuracy: 0.6875\n",
      "Epoch 26/100\n",
      "122/122 [==============================] - 0s 1ms/step - loss: 0.5246 - accuracy: 0.6683 - val_loss: 0.4933 - val_accuracy: 0.6842\n",
      "Epoch 27/100\n",
      "122/122 [==============================] - 0s 2ms/step - loss: 0.5250 - accuracy: 0.6683 - val_loss: 0.4929 - val_accuracy: 0.6875\n",
      "Epoch 28/100\n",
      "122/122 [==============================] - 0s 1ms/step - loss: 0.5245 - accuracy: 0.6716 - val_loss: 0.4945 - val_accuracy: 0.6776\n",
      "Epoch 29/100\n",
      "122/122 [==============================] - 0s 2ms/step - loss: 0.5245 - accuracy: 0.6667 - val_loss: 0.4934 - val_accuracy: 0.6776\n",
      "Epoch 30/100\n",
      "122/122 [==============================] - 0s 1ms/step - loss: 0.5244 - accuracy: 0.6691 - val_loss: 0.4938 - val_accuracy: 0.6809\n",
      "Epoch 31/100\n",
      "122/122 [==============================] - 0s 1ms/step - loss: 0.5248 - accuracy: 0.6683 - val_loss: 0.4930 - val_accuracy: 0.6776\n",
      "Epoch 32/100\n",
      "122/122 [==============================] - 0s 1ms/step - loss: 0.5243 - accuracy: 0.6667 - val_loss: 0.4926 - val_accuracy: 0.6875\n",
      "Epoch 33/100\n",
      "122/122 [==============================] - 0s 1ms/step - loss: 0.5239 - accuracy: 0.6700 - val_loss: 0.4938 - val_accuracy: 0.6776\n",
      "Epoch 34/100\n",
      "122/122 [==============================] - 0s 1ms/step - loss: 0.5242 - accuracy: 0.6724 - val_loss: 0.4939 - val_accuracy: 0.6875\n",
      "Epoch 35/100\n",
      "122/122 [==============================] - 0s 1ms/step - loss: 0.5247 - accuracy: 0.6708 - val_loss: 0.4929 - val_accuracy: 0.6875\n",
      "Epoch 36/100\n",
      "122/122 [==============================] - 0s 1ms/step - loss: 0.5241 - accuracy: 0.6691 - val_loss: 0.4925 - val_accuracy: 0.6908\n",
      "Epoch 37/100\n",
      "122/122 [==============================] - 0s 1ms/step - loss: 0.5242 - accuracy: 0.6700 - val_loss: 0.4948 - val_accuracy: 0.6776\n",
      "Epoch 38/100\n",
      "122/122 [==============================] - 0s 1ms/step - loss: 0.5241 - accuracy: 0.6708 - val_loss: 0.4949 - val_accuracy: 0.6842\n",
      "Epoch 39/100\n",
      "122/122 [==============================] - 0s 1ms/step - loss: 0.5242 - accuracy: 0.6658 - val_loss: 0.4941 - val_accuracy: 0.6908\n",
      "Epoch 40/100\n",
      "122/122 [==============================] - 0s 1ms/step - loss: 0.5238 - accuracy: 0.6667 - val_loss: 0.4917 - val_accuracy: 0.6809\n",
      "Epoch 41/100\n",
      "122/122 [==============================] - 0s 1ms/step - loss: 0.5239 - accuracy: 0.6667 - val_loss: 0.4927 - val_accuracy: 0.6875\n",
      "Epoch 42/100\n",
      "122/122 [==============================] - 0s 1ms/step - loss: 0.5241 - accuracy: 0.6700 - val_loss: 0.4952 - val_accuracy: 0.6875\n",
      "Epoch 43/100\n",
      "122/122 [==============================] - 0s 1ms/step - loss: 0.5241 - accuracy: 0.6716 - val_loss: 0.4940 - val_accuracy: 0.6908\n",
      "Epoch 44/100\n",
      "122/122 [==============================] - 0s 1ms/step - loss: 0.5232 - accuracy: 0.6700 - val_loss: 0.4947 - val_accuracy: 0.6875\n",
      "Epoch 45/100\n",
      "122/122 [==============================] - 0s 1ms/step - loss: 0.5236 - accuracy: 0.6683 - val_loss: 0.4964 - val_accuracy: 0.6842\n",
      "Epoch 46/100\n",
      "122/122 [==============================] - 0s 1ms/step - loss: 0.5230 - accuracy: 0.6650 - val_loss: 0.4938 - val_accuracy: 0.6908\n",
      "Epoch 47/100\n",
      "122/122 [==============================] - 0s 1ms/step - loss: 0.5230 - accuracy: 0.6708 - val_loss: 0.4959 - val_accuracy: 0.6875\n",
      "Epoch 48/100\n",
      "122/122 [==============================] - 0s 2ms/step - loss: 0.5234 - accuracy: 0.6716 - val_loss: 0.4957 - val_accuracy: 0.6908\n",
      "Epoch 49/100\n",
      "122/122 [==============================] - 0s 1ms/step - loss: 0.5235 - accuracy: 0.6700 - val_loss: 0.4947 - val_accuracy: 0.6908\n",
      "Epoch 50/100\n",
      "122/122 [==============================] - 0s 1ms/step - loss: 0.5236 - accuracy: 0.6683 - val_loss: 0.4926 - val_accuracy: 0.6842\n",
      "Epoch 51/100\n",
      "122/122 [==============================] - 0s 1ms/step - loss: 0.5229 - accuracy: 0.6708 - val_loss: 0.4919 - val_accuracy: 0.6809\n",
      "Epoch 52/100\n",
      "122/122 [==============================] - 0s 1ms/step - loss: 0.5232 - accuracy: 0.6642 - val_loss: 0.4941 - val_accuracy: 0.6875\n",
      "Epoch 53/100\n",
      "122/122 [==============================] - 0s 2ms/step - loss: 0.5229 - accuracy: 0.6700 - val_loss: 0.4935 - val_accuracy: 0.6875\n",
      "Epoch 54/100\n",
      "122/122 [==============================] - 0s 1ms/step - loss: 0.5228 - accuracy: 0.6708 - val_loss: 0.4957 - val_accuracy: 0.6875\n",
      "Epoch 55/100\n",
      "122/122 [==============================] - 0s 1ms/step - loss: 0.5224 - accuracy: 0.6691 - val_loss: 0.4935 - val_accuracy: 0.6875\n",
      "Epoch 56/100\n",
      "122/122 [==============================] - 0s 1ms/step - loss: 0.5223 - accuracy: 0.6700 - val_loss: 0.4942 - val_accuracy: 0.6842\n",
      "Epoch 57/100\n",
      "122/122 [==============================] - 0s 1ms/step - loss: 0.5337 - accuracy: 0.6625 - val_loss: 0.4958 - val_accuracy: 0.6743\n",
      "Epoch 58/100\n",
      "122/122 [==============================] - 0s 1ms/step - loss: 0.5231 - accuracy: 0.6667 - val_loss: 0.5027 - val_accuracy: 0.6645\n",
      "Epoch 59/100\n",
      "122/122 [==============================] - 0s 1ms/step - loss: 0.5228 - accuracy: 0.6650 - val_loss: 0.4934 - val_accuracy: 0.6776\n",
      "Epoch 60/100\n",
      "122/122 [==============================] - 0s 1ms/step - loss: 0.5225 - accuracy: 0.6667 - val_loss: 0.4959 - val_accuracy: 0.6711\n",
      "Epoch 61/100\n",
      "122/122 [==============================] - 0s 1ms/step - loss: 0.5226 - accuracy: 0.6667 - val_loss: 0.4960 - val_accuracy: 0.6711\n",
      "Epoch 62/100\n",
      "122/122 [==============================] - 0s 1ms/step - loss: 0.5223 - accuracy: 0.6708 - val_loss: 0.4935 - val_accuracy: 0.6809\n",
      "Epoch 63/100\n",
      "122/122 [==============================] - 0s 1ms/step - loss: 0.5223 - accuracy: 0.6716 - val_loss: 0.4931 - val_accuracy: 0.6809\n",
      "Epoch 64/100\n",
      "122/122 [==============================] - 0s 2ms/step - loss: 0.5223 - accuracy: 0.6691 - val_loss: 0.4948 - val_accuracy: 0.6711\n",
      "Epoch 65/100\n",
      "122/122 [==============================] - 0s 1ms/step - loss: 0.5217 - accuracy: 0.6708 - val_loss: 0.4965 - val_accuracy: 0.6743\n",
      "Epoch 66/100\n",
      "122/122 [==============================] - 0s 2ms/step - loss: 0.5219 - accuracy: 0.6700 - val_loss: 0.4941 - val_accuracy: 0.6711\n",
      "Epoch 67/100\n",
      "122/122 [==============================] - 0s 1ms/step - loss: 0.5224 - accuracy: 0.6683 - val_loss: 0.4934 - val_accuracy: 0.6809\n",
      "Epoch 68/100\n",
      "122/122 [==============================] - 0s 1ms/step - loss: 0.5215 - accuracy: 0.6716 - val_loss: 0.4937 - val_accuracy: 0.6809\n",
      "Epoch 69/100\n",
      "122/122 [==============================] - 0s 1ms/step - loss: 0.5216 - accuracy: 0.6691 - val_loss: 0.4938 - val_accuracy: 0.6711\n",
      "Epoch 70/100\n",
      "122/122 [==============================] - 0s 1ms/step - loss: 0.5218 - accuracy: 0.6716 - val_loss: 0.4952 - val_accuracy: 0.6711\n",
      "Epoch 71/100\n",
      "122/122 [==============================] - 0s 1ms/step - loss: 0.5216 - accuracy: 0.6691 - val_loss: 0.4932 - val_accuracy: 0.6842\n",
      "Epoch 72/100\n",
      "122/122 [==============================] - 0s 1ms/step - loss: 0.5211 - accuracy: 0.6708 - val_loss: 0.4935 - val_accuracy: 0.6809\n",
      "Epoch 73/100\n",
      "122/122 [==============================] - 0s 1ms/step - loss: 0.5214 - accuracy: 0.6724 - val_loss: 0.4934 - val_accuracy: 0.6809\n",
      "Epoch 74/100\n",
      "122/122 [==============================] - 0s 2ms/step - loss: 0.5214 - accuracy: 0.6708 - val_loss: 0.4922 - val_accuracy: 0.6941\n",
      "Epoch 75/100\n",
      "122/122 [==============================] - 0s 1ms/step - loss: 0.5218 - accuracy: 0.6683 - val_loss: 0.4930 - val_accuracy: 0.6809\n",
      "Epoch 76/100\n",
      "122/122 [==============================] - 0s 1ms/step - loss: 0.5210 - accuracy: 0.6724 - val_loss: 0.4908 - val_accuracy: 0.6875\n",
      "Epoch 77/100\n",
      "122/122 [==============================] - 0s 1ms/step - loss: 0.5208 - accuracy: 0.6716 - val_loss: 0.4915 - val_accuracy: 0.6809\n",
      "Epoch 78/100\n",
      "122/122 [==============================] - 0s 1ms/step - loss: 0.5208 - accuracy: 0.6716 - val_loss: 0.4934 - val_accuracy: 0.6809\n",
      "Epoch 79/100\n",
      "122/122 [==============================] - 0s 1ms/step - loss: 0.5446 - accuracy: 0.6724 - val_loss: 0.4989 - val_accuracy: 0.6711\n",
      "Epoch 80/100\n",
      "122/122 [==============================] - 0s 1ms/step - loss: 0.5210 - accuracy: 0.6691 - val_loss: 0.4880 - val_accuracy: 0.7007\n",
      "Epoch 81/100\n",
      "122/122 [==============================] - 0s 1ms/step - loss: 0.5208 - accuracy: 0.6724 - val_loss: 0.4940 - val_accuracy: 0.6809\n",
      "Epoch 82/100\n",
      "122/122 [==============================] - 0s 1ms/step - loss: 0.5208 - accuracy: 0.6675 - val_loss: 0.4914 - val_accuracy: 0.6974\n",
      "Epoch 83/100\n",
      "122/122 [==============================] - 0s 1ms/step - loss: 0.5202 - accuracy: 0.6741 - val_loss: 0.4990 - val_accuracy: 0.6711\n",
      "Epoch 84/100\n",
      "122/122 [==============================] - 0s 1ms/step - loss: 0.5199 - accuracy: 0.6741 - val_loss: 0.4947 - val_accuracy: 0.6809\n",
      "Epoch 85/100\n",
      "122/122 [==============================] - 0s 1ms/step - loss: 0.5200 - accuracy: 0.6724 - val_loss: 0.4906 - val_accuracy: 0.6941\n",
      "Epoch 86/100\n",
      "122/122 [==============================] - 0s 1ms/step - loss: 0.5199 - accuracy: 0.6733 - val_loss: 0.4942 - val_accuracy: 0.6809\n",
      "Epoch 87/100\n",
      "122/122 [==============================] - 0s 1ms/step - loss: 0.5197 - accuracy: 0.6741 - val_loss: 0.4973 - val_accuracy: 0.6809\n",
      "Epoch 88/100\n",
      "122/122 [==============================] - 0s 1ms/step - loss: 0.5201 - accuracy: 0.6724 - val_loss: 0.4906 - val_accuracy: 0.6974\n",
      "Epoch 89/100\n",
      "122/122 [==============================] - 0s 1ms/step - loss: 0.5195 - accuracy: 0.6766 - val_loss: 0.4933 - val_accuracy: 0.6908\n",
      "Epoch 90/100\n",
      "122/122 [==============================] - 0s 1ms/step - loss: 0.5188 - accuracy: 0.6749 - val_loss: 0.4921 - val_accuracy: 0.6974\n",
      "Epoch 91/100\n",
      "122/122 [==============================] - 0s 1ms/step - loss: 0.5196 - accuracy: 0.6741 - val_loss: 0.4950 - val_accuracy: 0.6908\n",
      "Epoch 92/100\n",
      "122/122 [==============================] - 0s 1ms/step - loss: 0.5190 - accuracy: 0.6757 - val_loss: 0.4993 - val_accuracy: 0.6711\n",
      "Epoch 93/100\n",
      "122/122 [==============================] - 0s 1ms/step - loss: 0.5185 - accuracy: 0.6749 - val_loss: 0.4907 - val_accuracy: 0.6974\n",
      "Epoch 94/100\n",
      "122/122 [==============================] - 0s 1ms/step - loss: 0.5190 - accuracy: 0.6733 - val_loss: 0.4958 - val_accuracy: 0.6908\n",
      "Epoch 95/100\n",
      "122/122 [==============================] - 0s 2ms/step - loss: 0.5191 - accuracy: 0.6708 - val_loss: 0.4904 - val_accuracy: 0.7007\n",
      "Epoch 96/100\n",
      "122/122 [==============================] - 0s 2ms/step - loss: 0.5187 - accuracy: 0.6741 - val_loss: 0.4940 - val_accuracy: 0.6809\n",
      "Epoch 97/100\n",
      "122/122 [==============================] - 0s 1ms/step - loss: 0.5186 - accuracy: 0.6757 - val_loss: 0.4941 - val_accuracy: 0.6974\n",
      "Epoch 98/100\n",
      "122/122 [==============================] - 0s 1ms/step - loss: 0.5180 - accuracy: 0.6757 - val_loss: 0.5028 - val_accuracy: 0.6711\n",
      "Epoch 99/100\n",
      "122/122 [==============================] - 0s 1ms/step - loss: 0.5192 - accuracy: 0.6733 - val_loss: 0.4930 - val_accuracy: 0.6908\n",
      "Epoch 100/100\n",
      "122/122 [==============================] - 0s 1ms/step - loss: 0.5186 - accuracy: 0.6691 - val_loss: 0.4905 - val_accuracy: 0.7007\n"
     ]
    }
   ],
   "source": [
    "history = nn_model.fit(X_train,y_train,batch_size=10,epochs=100,validation_split=0.2)"
   ]
  },
  {
   "cell_type": "markdown",
   "id": "47db74f0",
   "metadata": {},
   "source": [
    "### Seems Like XGBOOST Performed Way better so we will use XGBOOST model"
   ]
  },
  {
   "cell_type": "code",
   "execution_count": 32,
   "id": "d0cbc475",
   "metadata": {},
   "outputs": [
    {
     "name": "stdout",
     "output_type": "stream",
     "text": [
      "[21:15:34] WARNING: C:/Users/Administrator/workspace/xgboost-win64_release_1.4.0/src/learner.cc:1095: Starting in XGBoost 1.3.0, the default evaluation metric used with the objective 'binary:logistic' was changed from 'error' to 'logloss'. Explicitly set eval_metric if you'd like to restore the old behavior.\n"
     ]
    },
    {
     "name": "stderr",
     "output_type": "stream",
     "text": [
      "C:\\Users\\Saurav\\anaconda3\\lib\\site-packages\\xgboost\\sklearn.py:1146: UserWarning: The use of label encoder in XGBClassifier is deprecated and will be removed in a future release. To remove this warning, do the following: 1) Pass option use_label_encoder=False when constructing XGBClassifier object; and 2) Encode your labels (y) as integers starting with 0, i.e. 0, 1, 2, ..., [num_class - 1].\n",
      "  warnings.warn(label_encoder_deprecation_msg, UserWarning)\n"
     ]
    },
    {
     "data": {
      "text/plain": [
       "XGBClassifier(base_score=0.5, booster='gbtree', colsample_bylevel=1,\n",
       "              colsample_bynode=1, colsample_bytree=1, gamma=0, gpu_id=-1,\n",
       "              importance_type='gain', interaction_constraints='',\n",
       "              learning_rate=0.300000012, max_delta_step=0, max_depth=6,\n",
       "              min_child_weight=1, missing=nan, monotone_constraints='()',\n",
       "              n_estimators=100, n_jobs=8, num_parallel_tree=1, random_state=0,\n",
       "              reg_alpha=0, reg_lambda=1, scale_pos_weight=1, subsample=1,\n",
       "              tree_method='exact', validate_parameters=1, verbosity=None)"
      ]
     },
     "execution_count": 32,
     "metadata": {},
     "output_type": "execute_result"
    }
   ],
   "source": [
    "xgb_model.fit(X_train,y_train)"
   ]
  },
  {
   "cell_type": "code",
   "execution_count": 33,
   "id": "f58f8869",
   "metadata": {},
   "outputs": [
    {
     "name": "stderr",
     "output_type": "stream",
     "text": [
      "C:\\Users\\Saurav\\anaconda3\\lib\\site-packages\\xgboost\\data.py:112: UserWarning: Use subset (sliced data) of np.ndarray is not recommended because it will generate extra copies and increase memory consumption\n",
      "  warnings.warn(\n"
     ]
    }
   ],
   "source": [
    "y_pred = xgb_model.predict(X_test)"
   ]
  },
  {
   "cell_type": "code",
   "execution_count": 35,
   "id": "81fa494b",
   "metadata": {},
   "outputs": [
    {
     "data": {
      "text/plain": [
       "0.9026315789473685"
      ]
     },
     "execution_count": 35,
     "metadata": {},
     "output_type": "execute_result"
    }
   ],
   "source": [
    "accuracy_score(y_test,y_pred)"
   ]
  },
  {
   "cell_type": "markdown",
   "id": "84da9b34",
   "metadata": {},
   "source": [
    "### Test Data"
   ]
  },
  {
   "cell_type": "code",
   "execution_count": 52,
   "id": "a808ed65",
   "metadata": {},
   "outputs": [],
   "source": [
    "test_data = pd.read_csv('https://raw.githubusercontent.com/dphi-official/Datasets/master/Tinder_Millennial_Match/test_set_label.csv')"
   ]
  },
  {
   "cell_type": "code",
   "execution_count": 53,
   "id": "b307bc69",
   "metadata": {},
   "outputs": [
    {
     "data": {
      "text/html": [
       "<div>\n",
       "<style scoped>\n",
       "    .dataframe tbody tr th:only-of-type {\n",
       "        vertical-align: middle;\n",
       "    }\n",
       "\n",
       "    .dataframe tbody tr th {\n",
       "        vertical-align: top;\n",
       "    }\n",
       "\n",
       "    .dataframe thead th {\n",
       "        text-align: right;\n",
       "    }\n",
       "</style>\n",
       "<table border=\"1\" class=\"dataframe\">\n",
       "  <thead>\n",
       "    <tr style=\"text-align: right;\">\n",
       "      <th></th>\n",
       "      <th>ID</th>\n",
       "      <th>Segment type</th>\n",
       "      <th>Segment Description</th>\n",
       "      <th>Answer</th>\n",
       "      <th>Count</th>\n",
       "      <th>Percentage</th>\n",
       "    </tr>\n",
       "  </thead>\n",
       "  <tbody>\n",
       "    <tr>\n",
       "      <th>0</th>\n",
       "      <td>292974.2311</td>\n",
       "      <td>university</td>\n",
       "      <td>University of California, Davis</td>\n",
       "      <td>Yes</td>\n",
       "      <td>0.230742</td>\n",
       "      <td>0.115371</td>\n",
       "    </tr>\n",
       "    <tr>\n",
       "      <th>1</th>\n",
       "      <td>292889.7996</td>\n",
       "      <td>web</td>\n",
       "      <td>Meridian, Idaho</td>\n",
       "      <td>No</td>\n",
       "      <td>0.000000</td>\n",
       "      <td>0.000000</td>\n",
       "    </tr>\n",
       "    <tr>\n",
       "      <th>2</th>\n",
       "      <td>293724.0350</td>\n",
       "      <td>university</td>\n",
       "      <td>Westport, CT</td>\n",
       "      <td>Yes</td>\n",
       "      <td>0.000000</td>\n",
       "      <td>0.000000</td>\n",
       "    </tr>\n",
       "    <tr>\n",
       "      <th>3</th>\n",
       "      <td>292884.0724</td>\n",
       "      <td>mobile</td>\n",
       "      <td>Meridian, Idaho</td>\n",
       "      <td>No</td>\n",
       "      <td>1497.699982</td>\n",
       "      <td>0.388752</td>\n",
       "    </tr>\n",
       "    <tr>\n",
       "      <th>4</th>\n",
       "      <td>292882.0964</td>\n",
       "      <td>mobile</td>\n",
       "      <td>Meridian, Idaho</td>\n",
       "      <td>No</td>\n",
       "      <td>1439.464988</td>\n",
       "      <td>0.373646</td>\n",
       "    </tr>\n",
       "  </tbody>\n",
       "</table>\n",
       "</div>"
      ],
      "text/plain": [
       "            ID Segment type              Segment Description Answer  \\\n",
       "0  292974.2311   university  University of California, Davis    Yes   \n",
       "1  292889.7996          web                  Meridian, Idaho     No   \n",
       "2  293724.0350   university                     Westport, CT    Yes   \n",
       "3  292884.0724       mobile                  Meridian, Idaho     No   \n",
       "4  292882.0964       mobile                  Meridian, Idaho     No   \n",
       "\n",
       "         Count  Percentage  \n",
       "0     0.230742    0.115371  \n",
       "1     0.000000    0.000000  \n",
       "2     0.000000    0.000000  \n",
       "3  1497.699982    0.388752  \n",
       "4  1439.464988    0.373646  "
      ]
     },
     "execution_count": 53,
     "metadata": {},
     "output_type": "execute_result"
    }
   ],
   "source": [
    "test_data.head()"
   ]
  },
  {
   "cell_type": "code",
   "execution_count": 54,
   "id": "ad8459af",
   "metadata": {},
   "outputs": [
    {
     "data": {
      "text/plain": [
       "ID                     0\n",
       "Segment type           0\n",
       "Segment Description    0\n",
       "Answer                 0\n",
       "Count                  0\n",
       "Percentage             0\n",
       "dtype: int64"
      ]
     },
     "execution_count": 54,
     "metadata": {},
     "output_type": "execute_result"
    }
   ],
   "source": [
    "test_data.isnull().sum()"
   ]
  },
  {
   "cell_type": "code",
   "execution_count": 55,
   "id": "92e3dff8",
   "metadata": {},
   "outputs": [
    {
     "data": {
      "text/html": [
       "<div>\n",
       "<style scoped>\n",
       "    .dataframe tbody tr th:only-of-type {\n",
       "        vertical-align: middle;\n",
       "    }\n",
       "\n",
       "    .dataframe tbody tr th {\n",
       "        vertical-align: top;\n",
       "    }\n",
       "\n",
       "    .dataframe thead th {\n",
       "        text-align: right;\n",
       "    }\n",
       "</style>\n",
       "<table border=\"1\" class=\"dataframe\">\n",
       "  <thead>\n",
       "    <tr style=\"text-align: right;\">\n",
       "      <th></th>\n",
       "      <th>Segment type</th>\n",
       "      <th>Answer</th>\n",
       "      <th>Count</th>\n",
       "      <th>Percentage</th>\n",
       "    </tr>\n",
       "  </thead>\n",
       "  <tbody>\n",
       "    <tr>\n",
       "      <th>0</th>\n",
       "      <td>university</td>\n",
       "      <td>Yes</td>\n",
       "      <td>0.230742</td>\n",
       "      <td>0.115371</td>\n",
       "    </tr>\n",
       "    <tr>\n",
       "      <th>1</th>\n",
       "      <td>web</td>\n",
       "      <td>No</td>\n",
       "      <td>0.000000</td>\n",
       "      <td>0.000000</td>\n",
       "    </tr>\n",
       "    <tr>\n",
       "      <th>2</th>\n",
       "      <td>university</td>\n",
       "      <td>Yes</td>\n",
       "      <td>0.000000</td>\n",
       "      <td>0.000000</td>\n",
       "    </tr>\n",
       "    <tr>\n",
       "      <th>3</th>\n",
       "      <td>mobile</td>\n",
       "      <td>No</td>\n",
       "      <td>1497.699982</td>\n",
       "      <td>0.388752</td>\n",
       "    </tr>\n",
       "    <tr>\n",
       "      <th>4</th>\n",
       "      <td>mobile</td>\n",
       "      <td>No</td>\n",
       "      <td>1439.464988</td>\n",
       "      <td>0.373646</td>\n",
       "    </tr>\n",
       "  </tbody>\n",
       "</table>\n",
       "</div>"
      ],
      "text/plain": [
       "  Segment type Answer        Count  Percentage\n",
       "0   university    Yes     0.230742    0.115371\n",
       "1          web     No     0.000000    0.000000\n",
       "2   university    Yes     0.000000    0.000000\n",
       "3       mobile     No  1497.699982    0.388752\n",
       "4       mobile     No  1439.464988    0.373646"
      ]
     },
     "execution_count": 55,
     "metadata": {},
     "output_type": "execute_result"
    }
   ],
   "source": [
    "test_data = test_data.drop([\"ID\",\"Segment Description\"],axis=1)\n",
    "test_data.head()"
   ]
  },
  {
   "cell_type": "code",
   "execution_count": 56,
   "id": "2ef1e4ce",
   "metadata": {},
   "outputs": [
    {
     "data": {
      "text/html": [
       "<div>\n",
       "<style scoped>\n",
       "    .dataframe tbody tr th:only-of-type {\n",
       "        vertical-align: middle;\n",
       "    }\n",
       "\n",
       "    .dataframe tbody tr th {\n",
       "        vertical-align: top;\n",
       "    }\n",
       "\n",
       "    .dataframe thead th {\n",
       "        text-align: right;\n",
       "    }\n",
       "</style>\n",
       "<table border=\"1\" class=\"dataframe\">\n",
       "  <thead>\n",
       "    <tr style=\"text-align: right;\">\n",
       "      <th></th>\n",
       "      <th>Count</th>\n",
       "      <th>Percentage</th>\n",
       "      <th>Segment type_gender</th>\n",
       "      <th>Segment type_mobile</th>\n",
       "      <th>Segment type_university</th>\n",
       "      <th>Segment type_web</th>\n",
       "      <th>Answer_I don't use Tinder</th>\n",
       "      <th>Answer_No</th>\n",
       "      <th>Answer_Yes</th>\n",
       "    </tr>\n",
       "  </thead>\n",
       "  <tbody>\n",
       "    <tr>\n",
       "      <th>0</th>\n",
       "      <td>0.230742</td>\n",
       "      <td>0.115371</td>\n",
       "      <td>0</td>\n",
       "      <td>0</td>\n",
       "      <td>1</td>\n",
       "      <td>0</td>\n",
       "      <td>0</td>\n",
       "      <td>0</td>\n",
       "      <td>1</td>\n",
       "    </tr>\n",
       "    <tr>\n",
       "      <th>1</th>\n",
       "      <td>0.000000</td>\n",
       "      <td>0.000000</td>\n",
       "      <td>0</td>\n",
       "      <td>0</td>\n",
       "      <td>0</td>\n",
       "      <td>1</td>\n",
       "      <td>0</td>\n",
       "      <td>1</td>\n",
       "      <td>0</td>\n",
       "    </tr>\n",
       "    <tr>\n",
       "      <th>2</th>\n",
       "      <td>0.000000</td>\n",
       "      <td>0.000000</td>\n",
       "      <td>0</td>\n",
       "      <td>0</td>\n",
       "      <td>1</td>\n",
       "      <td>0</td>\n",
       "      <td>0</td>\n",
       "      <td>0</td>\n",
       "      <td>1</td>\n",
       "    </tr>\n",
       "    <tr>\n",
       "      <th>3</th>\n",
       "      <td>1497.699982</td>\n",
       "      <td>0.388752</td>\n",
       "      <td>0</td>\n",
       "      <td>1</td>\n",
       "      <td>0</td>\n",
       "      <td>0</td>\n",
       "      <td>0</td>\n",
       "      <td>1</td>\n",
       "      <td>0</td>\n",
       "    </tr>\n",
       "    <tr>\n",
       "      <th>4</th>\n",
       "      <td>1439.464988</td>\n",
       "      <td>0.373646</td>\n",
       "      <td>0</td>\n",
       "      <td>1</td>\n",
       "      <td>0</td>\n",
       "      <td>0</td>\n",
       "      <td>0</td>\n",
       "      <td>1</td>\n",
       "      <td>0</td>\n",
       "    </tr>\n",
       "  </tbody>\n",
       "</table>\n",
       "</div>"
      ],
      "text/plain": [
       "         Count  Percentage  Segment type_gender  Segment type_mobile  \\\n",
       "0     0.230742    0.115371                    0                    0   \n",
       "1     0.000000    0.000000                    0                    0   \n",
       "2     0.000000    0.000000                    0                    0   \n",
       "3  1497.699982    0.388752                    0                    1   \n",
       "4  1439.464988    0.373646                    0                    1   \n",
       "\n",
       "   Segment type_university  Segment type_web  Answer_I don't use Tinder  \\\n",
       "0                        1                 0                          0   \n",
       "1                        0                 1                          0   \n",
       "2                        1                 0                          0   \n",
       "3                        0                 0                          0   \n",
       "4                        0                 0                          0   \n",
       "\n",
       "   Answer_No  Answer_Yes  \n",
       "0          0           1  \n",
       "1          1           0  \n",
       "2          0           1  \n",
       "3          1           0  \n",
       "4          1           0  "
      ]
     },
     "execution_count": 56,
     "metadata": {},
     "output_type": "execute_result"
    }
   ],
   "source": [
    "test_data = pd.get_dummies(test_data)\n",
    "test_data.head()"
   ]
  },
  {
   "cell_type": "code",
   "execution_count": 57,
   "id": "5365dfdb",
   "metadata": {},
   "outputs": [
    {
     "name": "stderr",
     "output_type": "stream",
     "text": [
      "C:\\Users\\Saurav\\anaconda3\\lib\\site-packages\\xgboost\\data.py:112: UserWarning: Use subset (sliced data) of np.ndarray is not recommended because it will generate extra copies and increase memory consumption\n",
      "  warnings.warn(\n"
     ]
    }
   ],
   "source": [
    "prediction = xgb_model.predict(test_data)"
   ]
  },
  {
   "cell_type": "code",
   "execution_count": 58,
   "id": "7493e233",
   "metadata": {},
   "outputs": [
    {
     "data": {
      "text/html": [
       "<div>\n",
       "<style scoped>\n",
       "    .dataframe tbody tr th:only-of-type {\n",
       "        vertical-align: middle;\n",
       "    }\n",
       "\n",
       "    .dataframe tbody tr th {\n",
       "        vertical-align: top;\n",
       "    }\n",
       "\n",
       "    .dataframe thead th {\n",
       "        text-align: right;\n",
       "    }\n",
       "</style>\n",
       "<table border=\"1\" class=\"dataframe\">\n",
       "  <thead>\n",
       "    <tr style=\"text-align: right;\">\n",
       "      <th></th>\n",
       "      <th>prediction</th>\n",
       "    </tr>\n",
       "  </thead>\n",
       "  <tbody>\n",
       "    <tr>\n",
       "      <th>0</th>\n",
       "      <td>1</td>\n",
       "    </tr>\n",
       "    <tr>\n",
       "      <th>1</th>\n",
       "      <td>0</td>\n",
       "    </tr>\n",
       "    <tr>\n",
       "      <th>2</th>\n",
       "      <td>1</td>\n",
       "    </tr>\n",
       "    <tr>\n",
       "      <th>3</th>\n",
       "      <td>0</td>\n",
       "    </tr>\n",
       "    <tr>\n",
       "      <th>4</th>\n",
       "      <td>0</td>\n",
       "    </tr>\n",
       "    <tr>\n",
       "      <th>...</th>\n",
       "      <td>...</td>\n",
       "    </tr>\n",
       "    <tr>\n",
       "      <th>627</th>\n",
       "      <td>1</td>\n",
       "    </tr>\n",
       "    <tr>\n",
       "      <th>628</th>\n",
       "      <td>0</td>\n",
       "    </tr>\n",
       "    <tr>\n",
       "      <th>629</th>\n",
       "      <td>0</td>\n",
       "    </tr>\n",
       "    <tr>\n",
       "      <th>630</th>\n",
       "      <td>0</td>\n",
       "    </tr>\n",
       "    <tr>\n",
       "      <th>631</th>\n",
       "      <td>0</td>\n",
       "    </tr>\n",
       "  </tbody>\n",
       "</table>\n",
       "<p>632 rows × 1 columns</p>\n",
       "</div>"
      ],
      "text/plain": [
       "     prediction\n",
       "0             1\n",
       "1             0\n",
       "2             1\n",
       "3             0\n",
       "4             0\n",
       "..          ...\n",
       "627           1\n",
       "628           0\n",
       "629           0\n",
       "630           0\n",
       "631           0\n",
       "\n",
       "[632 rows x 1 columns]"
      ]
     },
     "execution_count": 58,
     "metadata": {},
     "output_type": "execute_result"
    }
   ],
   "source": [
    "submission_file = pd.DataFrame(prediction,columns=[\"prediction\"])\n",
    "submission_file"
   ]
  },
  {
   "cell_type": "code",
   "execution_count": 59,
   "id": "21e00b3f",
   "metadata": {},
   "outputs": [],
   "source": [
    "submission_file.to_csv(\"final_submission.csv\")"
   ]
  },
  {
   "cell_type": "code",
   "execution_count": null,
   "id": "bce0520a",
   "metadata": {},
   "outputs": [],
   "source": []
  }
 ],
 "metadata": {
  "kernelspec": {
   "display_name": "Python 3",
   "language": "python",
   "name": "python3"
  },
  "language_info": {
   "codemirror_mode": {
    "name": "ipython",
    "version": 3
   },
   "file_extension": ".py",
   "mimetype": "text/x-python",
   "name": "python",
   "nbconvert_exporter": "python",
   "pygments_lexer": "ipython3",
   "version": "3.8.5"
  },
  "widgets": {
   "application/vnd.jupyter.widget-state+json": {
    "state": {},
    "version_major": 2,
    "version_minor": 0
   }
  }
 },
 "nbformat": 4,
 "nbformat_minor": 5
}
